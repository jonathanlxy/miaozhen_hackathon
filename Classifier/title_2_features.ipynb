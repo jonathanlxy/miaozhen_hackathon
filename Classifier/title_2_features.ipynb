{
 "cells": [
  {
   "cell_type": "code",
   "execution_count": 1,
   "metadata": {},
   "outputs": [
    {
     "name": "stdout",
     "output_type": "stream",
     "text": [
      "Model loaded succeed\n",
      ">> Synonyms on loading ...\n",
      ">> Synonyms vocabulary size: 125792\n"
     ]
    }
   ],
   "source": [
    "import pandas as pd\n",
    "import synonyms\n",
    "import jieba\n",
    "import jieba.posseg as pseg"
   ]
  },
  {
   "cell_type": "code",
   "execution_count": 2,
   "metadata": {},
   "outputs": [
    {
     "name": "stdout",
     "output_type": "stream",
     "text": [
      "height has been deprecated.\n",
      "\n"
     ]
    }
   ],
   "source": [
    "pd.set_option('display.height', 1000)\n",
    "pd.set_option('display.max_rows', 500)\n",
    "pd.set_option('display.max_columns', 500)\n",
    "pd.set_option('display.width', 1000)"
   ]
  },
  {
   "cell_type": "code",
   "execution_count": 3,
   "metadata": {
    "collapsed": true,
    "scrolled": true
   },
   "outputs": [],
   "source": [
    "corpus_df = pd.read_csv('/Users/olap/Desktop/corpus.csv')\n",
    "corpus_2_list = corpus_df[corpus_df['rate'] == 2]['token'].tolist()\n",
    "corpus_3_list = corpus_df[corpus_df['rate'] == 3]['token'].tolist()"
   ]
  },
  {
   "cell_type": "code",
   "execution_count": 4,
   "metadata": {
    "collapsed": true
   },
   "outputs": [],
   "source": [
    "def title_token_rater(tokens):\n",
    "    \n",
    "    tokens_rate = list(map(lambda x:3 if x in corpus_3_list else(2 if x in corpus_2_list else 0), tokens))\n",
    "        \n",
    "    token_3_cnt = tokens_rate.count(3)\n",
    "    token_2_cnt = tokens_rate.count(2)\n",
    "    \n",
    "    return [token_2_cnt, token_3_cnt]"
   ]
  },
  {
   "cell_type": "code",
   "execution_count": 5,
   "metadata": {
    "collapsed": true
   },
   "outputs": [],
   "source": [
    "def title_syn_rater(tokens):\n",
    "    \n",
    "    syn_3_cnt = 0\n",
    "    syn_2_cnt = 0\n",
    "    syn_cnt_list = []\n",
    "    \n",
    "    for token in tokens:\n",
    "        syn = synonyms.nearby(token)[0]\n",
    "        syn_rates = list(map(lambda x:3 if x in corpus_3_list else(2 if x in corpus_2_list else 0), syn))\n",
    "\n",
    "        syn_cnt = [2 if syn_rates.count(3) < syn_rates.count(2) else(0 if syn_rates.count(3) == 0 and syn_rates.count(2) == 0 else 3)]\n",
    "        syn_cnt_list += syn_cnt\n",
    "        \n",
    "    syn_3_cnt = syn_cnt_list.count(3)\n",
    "    syn_2_cnt = syn_cnt_list.count(2)\n",
    "     \n",
    "    return [syn_2_cnt, syn_3_cnt]"
   ]
  },
  {
   "cell_type": "code",
   "execution_count": 6,
   "metadata": {
    "collapsed": true
   },
   "outputs": [],
   "source": [
    "def title_processor(title):\n",
    "    \n",
    "    tokens = list(set(list(jieba.cut_for_search(title))))\n",
    "#     print(tokens)\n",
    "    token_rate = title_token_rater(tokens)\n",
    "    syn_rate = title_syn_rater(tokens)\n",
    "    \n",
    "    return token_rate + syn_rate"
   ]
  },
  {
   "cell_type": "code",
   "execution_count": 8,
   "metadata": {
    "collapsed": true
   },
   "outputs": [],
   "source": [
    "training_title_list = open('/Users/olap/Desktop/training_title_list.txt', 'r').read().split('\\n')[:100]"
   ]
  },
  {
   "cell_type": "code",
   "execution_count": 18,
   "metadata": {},
   "outputs": [
    {
     "name": "stdout",
     "output_type": "stream",
     "text": [
      "跟老公结婚当天，老公强行的让我和他的几个朋友一起爱爱，我是第一次，下面疼的几乎晕过去，屁眼也被插了，_飞华健康问答\n"
     ]
    }
   ],
   "source": [
    "test_title = training_title_list[2]\n",
    "print (test_title)"
   ]
  },
  {
   "cell_type": "code",
   "execution_count": 19,
   "metadata": {
    "scrolled": true
   },
   "outputs": [
    {
     "data": {
      "text/plain": [
       "[2, 1, 2, 0]"
      ]
     },
     "execution_count": 19,
     "metadata": {},
     "output_type": "execute_result"
    }
   ],
   "source": [
    "title_processor(test_title)"
   ]
  },
  {
   "cell_type": "code",
   "execution_count": 20,
   "metadata": {},
   "outputs": [
    {
     "data": {
      "text/plain": [
       "[[0, 0, 1, 0],\n",
       " [1, 0, 2, 1],\n",
       " [2, 1, 2, 0],\n",
       " [0, 0, 1, 0],\n",
       " [0, 1, 1, 0],\n",
       " [0, 0, 1, 0],\n",
       " [4, 1, 2, 1],\n",
       " [0, 0, 0, 0],\n",
       " [0, 0, 0, 0],\n",
       " [0, 0, 0, 0],\n",
       " [0, 0, 0, 0],\n",
       " [0, 0, 2, 2],\n",
       " [1, 1, 2, 1],\n",
       " [1, 0, 1, 0],\n",
       " [0, 0, 0, 0],\n",
       " [0, 0, 2, 0],\n",
       " [0, 0, 0, 0],\n",
       " [1, 0, 1, 0],\n",
       " [0, 0, 0, 0],\n",
       " [0, 0, 0, 0],\n",
       " [0, 1, 1, 0],\n",
       " [0, 0, 0, 0],\n",
       " [1, 1, 1, 0],\n",
       " [0, 0, 0, 0],\n",
       " [0, 0, 0, 0],\n",
       " [1, 0, 0, 0],\n",
       " [0, 0, 0, 0],\n",
       " [0, 0, 0, 0],\n",
       " [0, 0, 3, 0],\n",
       " [1, 0, 0, 0],\n",
       " [0, 0, 0, 0],\n",
       " [1, 0, 0, 0],\n",
       " [0, 0, 0, 0],\n",
       " [0, 0, 1, 0],\n",
       " [0, 0, 1, 0],\n",
       " [0, 0, 0, 0],\n",
       " [0, 0, 0, 0],\n",
       " [0, 0, 1, 0],\n",
       " [0, 0, 0, 0],\n",
       " [0, 0, 2, 0],\n",
       " [0, 0, 1, 0],\n",
       " [0, 1, 1, 0],\n",
       " [0, 0, 0, 0],\n",
       " [0, 0, 0, 0],\n",
       " [0, 0, 1, 0],\n",
       " [0, 0, 0, 0],\n",
       " [0, 0, 0, 0],\n",
       " [0, 0, 1, 0],\n",
       " [0, 0, 0, 0],\n",
       " [1, 0, 1, 0],\n",
       " [0, 0, 0, 0],\n",
       " [0, 0, 0, 0],\n",
       " [0, 0, 1, 0],\n",
       " [1, 1, 2, 0],\n",
       " [1, 0, 2, 0],\n",
       " [0, 0, 2, 0],\n",
       " [0, 0, 0, 0],\n",
       " [0, 0, 0, 0],\n",
       " [0, 0, 0, 0],\n",
       " [0, 0, 1, 0],\n",
       " [0, 0, 2, 0],\n",
       " [0, 0, 1, 0],\n",
       " [0, 0, 0, 0],\n",
       " [0, 0, 0, 0],\n",
       " [2, 0, 0, 0],\n",
       " [0, 0, 1, 0],\n",
       " [0, 0, 0, 0],\n",
       " [0, 0, 1, 0],\n",
       " [0, 0, 1, 0],\n",
       " [0, 0, 0, 0],\n",
       " [0, 0, 0, 0],\n",
       " [0, 0, 0, 0],\n",
       " [0, 0, 1, 0],\n",
       " [0, 0, 0, 0],\n",
       " [0, 1, 2, 3],\n",
       " [0, 0, 0, 0],\n",
       " [1, 0, 1, 0],\n",
       " [0, 0, 0, 0],\n",
       " [0, 0, 0, 0],\n",
       " [0, 1, 0, 1],\n",
       " [0, 0, 0, 0],\n",
       " [0, 1, 4, 0],\n",
       " [0, 0, 0, 0],\n",
       " [0, 0, 0, 0],\n",
       " [0, 0, 0, 0],\n",
       " [0, 0, 1, 0],\n",
       " [3, 0, 2, 0],\n",
       " [0, 0, 0, 0],\n",
       " [0, 0, 1, 0],\n",
       " [0, 0, 1, 0],\n",
       " [0, 0, 1, 0],\n",
       " [4, 1, 2, 1],\n",
       " [1, 1, 3, 0],\n",
       " [0, 0, 1, 0],\n",
       " [1, 0, 1, 0],\n",
       " [0, 0, 1, 0],\n",
       " [0, 0, 0, 0],\n",
       " [3, 0, 0, 0],\n",
       " [0, 0, 0, 0],\n",
       " [0, 0, 0, 0]]"
      ]
     },
     "execution_count": 20,
     "metadata": {},
     "output_type": "execute_result"
    }
   ],
   "source": [
    "list(map(title_processor, training_title_list))"
   ]
  },
  {
   "cell_type": "code",
   "execution_count": null,
   "metadata": {
    "collapsed": true
   },
   "outputs": [],
   "source": []
  }
 ],
 "metadata": {
  "kernelspec": {
   "display_name": "Python 3",
   "language": "python",
   "name": "python3"
  },
  "language_info": {
   "codemirror_mode": {
    "name": "ipython",
    "version": 3
   },
   "file_extension": ".py",
   "mimetype": "text/x-python",
   "name": "python",
   "nbconvert_exporter": "python",
   "pygments_lexer": "ipython3",
   "version": "3.6.2"
  }
 },
 "nbformat": 4,
 "nbformat_minor": 2
}
