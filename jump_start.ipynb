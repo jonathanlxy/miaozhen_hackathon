{
 "cells": [
  {
   "cell_type": "markdown",
   "metadata": {},
   "source": [
    "数问 https://dataquestion.com\n",
    "<img src=\"https://dataquestion.com/wp-content/uploads/2017/08/WeChat-Image_20170807135204.png\" alt=\"Drawing\" style=\"width: 100px; float:right;\"/>"
   ]
  },
  {
   "cell_type": "markdown",
   "metadata": {},
   "source": [
    "### 需要的python包：\n",
    "* requests\n",
    "* bs4\n",
    "* re"
   ]
  },
  {
   "cell_type": "code",
   "execution_count": null,
   "metadata": {
    "collapsed": true
   },
   "outputs": [],
   "source": [
    "import requests\n",
    "from bs4 import BeautifulSoup\n",
    "import re"
   ]
  },
  {
   "cell_type": "markdown",
   "metadata": {},
   "source": [
    "# 从秒针下载url数据集\n",
    "\n",
    "http://hackathon.mzsvn.com/download.php"
   ]
  },
  {
   "cell_type": "raw",
   "metadata": {
    "collapsed": true
   },
   "source": [
    "download_url = \"http://hackathon.mzsvn.com/download.php\"\n",
    "url_list = requests.get(download_url).text.strip().split('\\n')"
   ]
  },
  {
   "cell_type": "code",
   "execution_count": null,
   "metadata": {
    "collapsed": true
   },
   "outputs": [],
   "source": [
    "url_list = open('url.csv','r').read().split('\\n')"
   ]
  },
  {
   "cell_type": "code",
   "execution_count": null,
   "metadata": {},
   "outputs": [],
   "source": [
    "len(url_list)"
   ]
  },
  {
   "cell_type": "markdown",
   "metadata": {},
   "source": [
    "# 最正常的网站"
   ]
  },
  {
   "cell_type": "code",
   "execution_count": null,
   "metadata": {},
   "outputs": [],
   "source": [
    "print (url_list[83])"
   ]
  },
  {
   "cell_type": "code",
   "execution_count": null,
   "metadata": {},
   "outputs": [],
   "source": [
    "bili_url = url_list[83]\n",
    "%time res = requests.get(bili_url)\n",
    "print ('status: ',res.status_code)\n",
    "print (res.text[:600])"
   ]
  },
  {
   "cell_type": "markdown",
   "metadata": {},
   "source": [
    "# 无法打开的链接\n",
    "设置链接超时，并处理异常"
   ]
  },
  {
   "cell_type": "code",
   "execution_count": null,
   "metadata": {},
   "outputs": [],
   "source": [
    "print (url_list[80])"
   ]
  },
  {
   "cell_type": "code",
   "execution_count": null,
   "metadata": {},
   "outputs": [],
   "source": [
    "bad_url = url_list[80]\n",
    "try:\n",
    "    %time res = requests.get(bad_url,timeout=10)\n",
    "    print ('status: ',res.status_code)\n",
    "    print (res.text[:600])\n",
    "except:\n",
    "    print ('cannot open:',bad_url)\n"
   ]
  },
  {
   "cell_type": "markdown",
   "metadata": {
    "collapsed": true
   },
   "source": [
    "# 禁止机器人访问的网站\n",
    "加入伪装浏览器头信息"
   ]
  },
  {
   "cell_type": "code",
   "execution_count": null,
   "metadata": {},
   "outputs": [],
   "source": [
    "print (url_list[45])"
   ]
  },
  {
   "cell_type": "code",
   "execution_count": null,
   "metadata": {},
   "outputs": [],
   "source": [
    "zhihu_url = url_list[45]\n",
    "header = {'User-Agent': \n",
    "          'Mozilla/5.0 (Macintosh; Intel Mac OS X 10_12_3) AppleWebKit/537.36 (KHTML, like Gecko) Chrome/56.0.2924.87 Safari/537.36'}\n",
    "try:\n",
    "    %time res = requests.get(zhihu_url,timeout=10)\n",
    "    print ('status: ',res.status_code)\n",
    "    print (res.text[:600])\n",
    "except:\n",
    "    print ('cannot open:',zhihu_url)"
   ]
  },
  {
   "cell_type": "code",
   "execution_count": null,
   "metadata": {},
   "outputs": [],
   "source": [
    "zhihu_url = url_list[45]\n",
    "header = {'User-Agent': \n",
    "          'Mozilla/5.0 (Macintosh; Intel Mac OS X 10_12_3) AppleWebKit/537.36 (KHTML, like Gecko) Chrome/56.0.2924.87 Safari/537.36'}\n",
    "try:\n",
    "    %time res = requests.get(zhihu_url,timeout=10,headers=header)\n",
    "    print ('status: ',res.status_code)\n",
    "    print (res.text[:600])\n",
    "except:\n",
    "    print ('cannot open:',zhihu_url)"
   ]
  },
  {
   "cell_type": "markdown",
   "metadata": {
    "collapsed": true
   },
   "source": [
    "# 非常规编码的网站\n",
    "通过正则表达式抓取编码方式"
   ]
  },
  {
   "cell_type": "code",
   "execution_count": null,
   "metadata": {
    "scrolled": true
   },
   "outputs": [],
   "source": [
    "print (url_list[0])"
   ]
  },
  {
   "cell_type": "code",
   "execution_count": null,
   "metadata": {},
   "outputs": [],
   "source": [
    "luanma_url = url_list[0]\n",
    "try:\n",
    "    %time res = requests.get(luanma_url,timeout=10,headers=header)\n",
    "    print ('status: ',res.status_code)\n",
    "    print (res.text[:600])\n",
    "except:\n",
    "    print ('cannot open:',luanma_url)"
   ]
  },
  {
   "cell_type": "code",
   "execution_count": null,
   "metadata": {},
   "outputs": [],
   "source": [
    "luanma_url = url_list[0]\n",
    "try:\n",
    "    %time res = requests.get(luanma_url,timeout=10,headers=header)\n",
    "    res.encoding = re.findall(r'charset=\"*([a-zA-Z0-9-]+)',res.text)[0]\n",
    "    print ('status: ',res.status_code)\n",
    "    print (res.text[:600])   \n",
    "except:\n",
    "    print ('cannot open:',luanma_url)"
   ]
  },
  {
   "cell_type": "markdown",
   "metadata": {},
   "source": [
    "# 抓取网页关键信息\n",
    "* 标题\n",
    "* 描述性内容\n",
    "* 大标题（h1）\n",
    "* 图片\n",
    "\n",
    "等等"
   ]
  },
  {
   "cell_type": "code",
   "execution_count": null,
   "metadata": {
    "collapsed": true
   },
   "outputs": [],
   "source": [
    "from bs4 import BeautifulSoup"
   ]
  },
  {
   "cell_type": "code",
   "execution_count": null,
   "metadata": {},
   "outputs": [],
   "source": [
    "print (url_list[67])"
   ]
  },
  {
   "cell_type": "code",
   "execution_count": null,
   "metadata": {},
   "outputs": [],
   "source": [
    "crawl_url = url_list[67]\n",
    "try:\n",
    "    %time res = requests.get(crawl_url,timeout=10,headers=header)\n",
    "    res.encoding = re.findall(r'charset=\"*([a-zA-Z0-9-]+)',res.text)[0]\n",
    "    print ('status: ',res.status_code)\n",
    "    print (res.text[:600])\n",
    "    html = res.text\n",
    "except:\n",
    "    print ('cannot open:',crawl_url)"
   ]
  },
  {
   "cell_type": "code",
   "execution_count": null,
   "metadata": {
    "collapsed": true
   },
   "outputs": [],
   "source": [
    "bs = BeautifulSoup(html,'lxml')"
   ]
  },
  {
   "cell_type": "code",
   "execution_count": null,
   "metadata": {},
   "outputs": [],
   "source": [
    "bs.title.text"
   ]
  },
  {
   "cell_type": "code",
   "execution_count": null,
   "metadata": {},
   "outputs": [],
   "source": [
    "bs.find(\"meta\", {\"name\":\"description\"})['content']"
   ]
  },
  {
   "cell_type": "code",
   "execution_count": null,
   "metadata": {},
   "outputs": [],
   "source": [
    "bs.find('h1').text"
   ]
  },
  {
   "cell_type": "code",
   "execution_count": null,
   "metadata": {},
   "outputs": [],
   "source": [
    "img_url = bs.findAll(src=re.compile('.+\\.jpg'))[-2]['src']\n",
    "print (img_url)"
   ]
  },
  {
   "cell_type": "code",
   "execution_count": null,
   "metadata": {},
   "outputs": [],
   "source": [
    "from IPython.display import Image\n",
    "from IPython.core.display import HTML \n",
    "Image(url= \"http:\"+img_url)"
   ]
  },
  {
   "cell_type": "markdown",
   "metadata": {},
   "source": [
    "# 提交方法\n",
    "将分数与url编号打包，用post方式发送到秒针服务器"
   ]
  },
  {
   "cell_type": "markdown",
   "metadata": {},
   "source": [
    " http://hackathon.mzsvn.com/submit.php"
   ]
  },
  {
   "cell_type": "code",
   "execution_count": null,
   "metadata": {
    "collapsed": true
   },
   "outputs": [],
   "source": [
    "para = dict([('url'+str(i),i) for i in range(1,101)])\n",
    "\n",
    "dict(list(para.items())[0:5])"
   ]
  },
  {
   "cell_type": "markdown",
   "metadata": {},
   "source": [
    "### 加入队伍token"
   ]
  },
  {
   "cell_type": "code",
   "execution_count": null,
   "metadata": {
    "collapsed": true
   },
   "outputs": [],
   "source": [
    "para['token']='iOkjn2dsAl7js4iD'"
   ]
  },
  {
   "cell_type": "markdown",
   "metadata": {},
   "source": [
    "### 提交"
   ]
  },
  {
   "cell_type": "code",
   "execution_count": null,
   "metadata": {
    "collapsed": true
   },
   "outputs": [],
   "source": [
    "submit_url = \"http://hackathon.mzsvn.com/submit.php\"\n",
    "sub_res = requests.post(submit_url,data=para)"
   ]
  },
  {
   "cell_type": "code",
   "execution_count": null,
   "metadata": {},
   "outputs": [],
   "source": [
    "sub_res.text"
   ]
  },
  {
   "cell_type": "markdown",
   "metadata": {},
   "source": [
    "作者：William"
   ]
  }
 ],
 "metadata": {
  "kernelspec": {
   "display_name": "Python 3",
   "language": "python",
   "name": "python3"
  },
  "language_info": {
   "codemirror_mode": {
    "name": "ipython",
    "version": 3
   },
   "file_extension": ".py",
   "mimetype": "text/x-python",
   "name": "python",
   "nbconvert_exporter": "python",
   "pygments_lexer": "ipython3",
   "version": "3.6.0"
  }
 },
 "nbformat": 4,
 "nbformat_minor": 2
}
