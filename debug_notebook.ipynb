{
 "cells": [
  {
   "cell_type": "markdown",
   "metadata": {
    "toc": "true"
   },
   "source": [
    " # Table of Contents\n",
    "<div class=\"toc\" style=\"margin-top: 1em;\"><ul class=\"toc-item\" id=\"toc-level0\"></ul></div>"
   ]
  },
  {
   "cell_type": "code",
   "execution_count": 1,
   "metadata": {},
   "outputs": [
    {
     "name": "stdout",
     "output_type": "stream",
     "text": [
      "Model loaded succeed\n",
      ">> Synonyms on loading ...\n"
     ]
    }
   ],
   "source": [
    "import pandas as pd\n",
    "pd.set_option('display.max_rows', 500)\n",
    "pd.set_option('display.max_columns', 500)\n",
    "pd.set_option('display.width', 1000)\n",
    "import numpy as np\n",
    "import time, os, json\n",
    "# Customized tools\n",
    "from lib import *\n",
    "from jieba import cut_for_search, add_word, suggest_freq, del_word\n",
    "\n",
    "from IPython.display import clear_output"
   ]
  },
  {
   "cell_type": "code",
   "execution_count": 5,
   "metadata": {},
   "outputs": [],
   "source": [
    "result_dump = 'result_dump/test.csv'\n",
    "result = pd.read_csv(result_dump)\n",
    "\n",
    "corpus_2_list = json.load(open('Classifier/corpus2.json', 'r'))\n",
    "corpus_3_list = json.load(open('Classifier/corpus3.json', 'r'))\n",
    "corpus_add_2 = json.load(open('Classifier/corpus_add2.json', 'r'))\n",
    "corpus_add_3 = json.load(open('Classifier/corpus_add3.json', 'r'))\n",
    "\n",
    "trans = Transformer(corpus_2_list, corpus_3_list,\n",
    "        corpus_add_2, corpus_add_3)"
   ]
  },
  {
   "cell_type": "code",
   "execution_count": 17,
   "metadata": {},
   "outputs": [
    {
     "ename": "IndexError",
     "evalue": "invalid index to scalar variable.",
     "output_type": "error",
     "traceback": [
      "\u001b[0;31m---------------------------------------------------------------------------\u001b[0m",
      "\u001b[0;31mIndexError\u001b[0m                                Traceback (most recent call last)",
      "\u001b[0;32m<ipython-input-17-ed887989b34a>\u001b[0m in \u001b[0;36m<module>\u001b[0;34m()\u001b[0m\n\u001b[0;32m----> 1\u001b[0;31m \u001b[0mtrans\u001b[0m\u001b[0;34m.\u001b[0m\u001b[0mget_feature\u001b[0m\u001b[0;34m(\u001b[0m\u001b[0mrow\u001b[0m\u001b[0;34m.\u001b[0m\u001b[0mtitle\u001b[0m\u001b[0;34m)\u001b[0m\u001b[0;34m[\u001b[0m\u001b[0;36m0\u001b[0m\u001b[0;34m]\u001b[0m\u001b[0;34m[\u001b[0m\u001b[0;36m2\u001b[0m\u001b[0;34m]\u001b[0m\u001b[0;34m\u001b[0m\u001b[0m\n\u001b[0m",
      "\u001b[0;31mIndexError\u001b[0m: invalid index to scalar variable."
     ]
    }
   ],
   "source": [
    "trans.get_feature(row.title)"
   ]
  },
  {
   "cell_type": "code",
   "execution_count": 20,
   "metadata": {},
   "outputs": [
    {
     "name": "stdout",
     "output_type": "stream",
     "text": [
      "TITLE: 写代码容易吗，放松一下吧，苍老师的高清片子 - 独孤求欢 - 博客园\n",
      "LABEL: 100.0\n",
      "TOKEN:\n",
      "{'求欢', '放松', '，', '写', '吧', ' ', '苍老', '苍老师', '容易', '的', '老师', '片子', '高清', '代码', '-', '一下', '博客', '吗', '博客园', '独孤'}\n",
      "FEATURE: [2 1 0 0]\n",
      "=== 30/100. Press Enter to Continue ===\n"
     ]
    }
   ],
   "source": [
    "n_total = result.shape[0]\n",
    "for i, row in result.iterrows():\n",
    "    if (row.label == 100) and (trans.get_feature(row.title)[1] > 0):\n",
    "        clear_output()\n",
    "        print('TITLE: {}'.format(row.title))\n",
    "        print('LABEL: {}'.format(row.label))\n",
    "        print('TOKEN:\\n{}'.format(trans.tokenize(row.title)))\n",
    "        print('FEATURE: {}'.format(trans.get_feature(row.title)))\n",
    "        stdin = input('=== {}/{}. Press Enter to Continue ==='.format(i+1, n_total))\n",
    "        if stdin == 'stop':\n",
    "            break"
   ]
  },
  {
   "cell_type": "code",
   "execution_count": 97,
   "metadata": {},
   "outputs": [
    {
     "name": "stdout",
     "output_type": "stream",
     "text": [
      "「/台/中/」/正确/应该/不会/被/切开\n",
      "「/台中/」/正确/应该/不会/被/切开\n"
     ]
    }
   ],
   "source": [
    "del_word('台中')\n",
    "print('/'.join(cut_for_search('「台中」正确应该不会被切开')))\n",
    "add_word('台中')\n",
    "print('/'.join(cut_for_search('「台中」正确应该不会被切开')))"
   ]
  },
  {
   "cell_type": "code",
   "execution_count": null,
   "metadata": {
    "collapsed": true
   },
   "outputs": [],
   "source": []
  }
 ],
 "metadata": {
  "kernelspec": {
   "display_name": "Python 3",
   "language": "python",
   "name": "python3"
  },
  "language_info": {
   "codemirror_mode": {
    "name": "ipython",
    "version": 3
   },
   "file_extension": ".py",
   "mimetype": "text/x-python",
   "name": "python",
   "nbconvert_exporter": "python",
   "pygments_lexer": "ipython3",
   "version": "3.6.2"
  },
  "toc": {
   "nav_menu": {},
   "number_sections": false,
   "sideBar": true,
   "skip_h1_title": false,
   "toc_cell": true,
   "toc_position": {},
   "toc_section_display": "block",
   "toc_window_display": false
  }
 },
 "nbformat": 4,
 "nbformat_minor": 2
}
