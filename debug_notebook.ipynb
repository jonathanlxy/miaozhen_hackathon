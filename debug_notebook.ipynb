{
 "cells": [
  {
   "cell_type": "markdown",
   "metadata": {
    "toc": "true"
   },
   "source": [
    " # Table of Contents\n",
    "<div class=\"toc\" style=\"margin-top: 1em;\"><ul class=\"toc-item\" id=\"toc-level0\"></ul></div>"
   ]
  },
  {
   "cell_type": "code",
   "execution_count": 1,
   "metadata": {},
   "outputs": [
    {
     "name": "stdout",
     "output_type": "stream",
     "text": [
      "Model loaded succeed\n",
      ">> Synonyms on loading ...\n"
     ]
    }
   ],
   "source": [
    "import pandas as pd\n",
    "pd.set_option('display.max_rows', 500)\n",
    "pd.set_option('display.max_columns', 500)\n",
    "pd.set_option('display.width', 1000)\n",
    "import numpy as np\n",
    "import time, os, json\n",
    "# Customized tools\n",
    "from lib import *\n",
    "from jieba import cut_for_search, add_word, suggest_freq, del_word\n",
    "\n",
    "from IPython.display import clear_output"
   ]
  },
  {
   "cell_type": "code",
   "execution_count": 2,
   "metadata": {},
   "outputs": [
    {
     "name": "stderr",
     "output_type": "stream",
     "text": [
      "Building prefix dict from the default dictionary ...\n",
      "Loading model from cache /tmp/jieba.cache\n",
      "Loading model cost 3.951 seconds.\n",
      "Prefix dict has been built succesfully.\n"
     ]
    }
   ],
   "source": [
    "result_dump = 'result_dump/test.csv'\n",
    "corpus_df = pd.read_csv('corpus.csv').reset_index(drop = True)\n",
    "corpus_2_list = corpus_df[corpus_df['rate'] == 2]['token'].tolist()\n",
    "corpus_3_list = corpus_df[corpus_df['rate'] == 3]['token'].tolist()\n",
    "trans = Transformer(corpus_2_list, corpus_3_list)"
   ]
  },
  {
   "cell_type": "code",
   "execution_count": 54,
   "metadata": {},
   "outputs": [
    {
     "name": "stdout",
     "output_type": "stream",
     "text": [
      "TITLE: 宝马X2量产版曝光：老X1换代重生？-宝马,X2,量产版,X1,SUV,-驱动之家\n",
      "LABEL: 100.0\n",
      "TOKEN:\n",
      "{'之家', '？', '：', '换代', ',', '量产', '宝马', '重生', 'suv', 'x2', '驱动之家', '曝光', 'x1', '驱动', '版', '-', '老'}\n",
      "FEATURE: [1 0 0 0]\n",
      "=== 4/100. Press Enter to Continue ===stop\n"
     ]
    }
   ],
   "source": [
    "n_total = result.shape[0]\n",
    "for i, row in result.iterrows():\n",
    "    clear_output()\n",
    "    print('TITLE: {}'.format(row.title))\n",
    "    print('LABEL: {}'.format(row.label))\n",
    "    print('TOKEN:\\n{}'.format(trans.tokenize(row.title)))\n",
    "    print('FEATURE: {}'.format(trans.get_feature(row.title)))\n",
    "    stdin = input('=== {}/{}. Press Enter to Continue ==='.format(i+1, n_total))\n",
    "    if stdin == 'stop':\n",
    "        break"
   ]
  },
  {
   "cell_type": "code",
   "execution_count": 97,
   "metadata": {},
   "outputs": [
    {
     "name": "stdout",
     "output_type": "stream",
     "text": [
      "「/台/中/」/正确/应该/不会/被/切开\n",
      "「/台中/」/正确/应该/不会/被/切开\n"
     ]
    }
   ],
   "source": [
    "del_word('台中')\n",
    "print('/'.join(cut_for_search('「台中」正确应该不会被切开')))\n",
    "add_word('台中')\n",
    "print('/'.join(cut_for_search('「台中」正确应该不会被切开')))"
   ]
  }
 ],
 "metadata": {
  "kernelspec": {
   "display_name": "Python 3",
   "language": "python",
   "name": "python3"
  },
  "language_info": {
   "codemirror_mode": {
    "name": "ipython",
    "version": 3
   },
   "file_extension": ".py",
   "mimetype": "text/x-python",
   "name": "python",
   "nbconvert_exporter": "python",
   "pygments_lexer": "ipython3",
   "version": "3.6.2"
  },
  "toc": {
   "nav_menu": {},
   "number_sections": false,
   "sideBar": true,
   "skip_h1_title": false,
   "toc_cell": true,
   "toc_position": {},
   "toc_section_display": "block",
   "toc_window_display": false
  }
 },
 "nbformat": 4,
 "nbformat_minor": 2
}
