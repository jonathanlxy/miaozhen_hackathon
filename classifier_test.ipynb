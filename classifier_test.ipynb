{
 "cells": [
  {
   "cell_type": "markdown",
   "metadata": {
    "toc": "true"
   },
   "source": [
    " # Table of Contents\n",
    "<div class=\"toc\" style=\"margin-top: 1em;\"><ul class=\"toc-item\" id=\"toc-level0\"></ul></div>"
   ]
  },
  {
   "cell_type": "code",
   "execution_count": 96,
   "metadata": {
    "collapsed": true
   },
   "outputs": [],
   "source": [
    "from jieba import cut_for_search, add_word, suggest_freq, del_word"
   ]
  },
  {
   "cell_type": "code",
   "execution_count": 97,
   "metadata": {},
   "outputs": [
    {
     "name": "stdout",
     "output_type": "stream",
     "text": [
      "「/台/中/」/正确/应该/不会/被/切开\n",
      "「/台中/」/正确/应该/不会/被/切开\n"
     ]
    }
   ],
   "source": [
    "del_word('台中')\n",
    "print('/'.join(cut_for_search('「台中」正确应该不会被切开')))\n",
    "add_word('台中')\n",
    "print('/'.join(cut_for_search('「台中」正确应该不会被切开')))"
   ]
  },
  {
   "cell_type": "code",
   "execution_count": 111,
   "metadata": {},
   "outputs": [],
   "source": [
    "def manual_rate(title):\n",
    "    m_rate = None\n",
    "    score_dict = {'0': 0, '1': 100, '5': 50}\n",
    "    while m_rate not in score_dict:\n",
    "        print('TITLE: {}'.format(title))\n",
    "        m_rate = input('Rate ==> ')\n",
    "        if m_rate in score_dict:\n",
    "            return score_dict[m_rate]\n",
    "        else:\n",
    "            print('Invalid score')"
   ]
  },
  {
   "cell_type": "code",
   "execution_count": 112,
   "metadata": {},
   "outputs": [
    {
     "name": "stdout",
     "output_type": "stream",
     "text": [
      "TITLE: 一二三\n",
      "Rate ==> 2\n",
      "Invalid score\n",
      "TITLE: 一二三\n",
      "Rate ==> 3\n",
      "Invalid score\n",
      "TITLE: 一二三\n",
      "Rate ==> 4\n",
      "Invalid score\n",
      "TITLE: 一二三\n",
      "Rate ==> 5\n"
     ]
    },
    {
     "data": {
      "text/plain": [
       "50"
      ]
     },
     "execution_count": 112,
     "metadata": {},
     "output_type": "execute_result"
    }
   ],
   "source": [
    "manual_rate('一二三')"
   ]
  },
  {
   "cell_type": "code",
   "execution_count": 128,
   "metadata": {},
   "outputs": [],
   "source": [
    "# l = list(zip(range(10, 20), range(10)))\n",
    "l = []"
   ]
  },
  {
   "cell_type": "code",
   "execution_count": 136,
   "metadata": {},
   "outputs": [],
   "source": [
    "import requests\n",
    "r = requests.get('http://www.google.com')"
   ]
  },
  {
   "cell_type": "code",
   "execution_count": 141,
   "metadata": {},
   "outputs": [],
   "source": [
    "l = [list(range(3)), list(range(10, 13))]"
   ]
  },
  {
   "cell_type": "code",
   "execution_count": 145,
   "metadata": {},
   "outputs": [
    {
     "name": "stdout",
     "output_type": "stream",
     "text": [
      "[0, 1]\n",
      "[10, 11]\n"
     ]
    }
   ],
   "source": [
    "for [i, ii, iii] in l:\n",
    "    print([i, ii])"
   ]
  },
  {
   "cell_type": "code",
   "execution_count": 133,
   "metadata": {},
   "outputs": [
    {
     "data": {
      "text/plain": [
       "4.562249422073364"
      ]
     },
     "execution_count": 133,
     "metadata": {},
     "output_type": "execute_result"
    }
   ],
   "source": [
    "time.time() - now"
   ]
  },
  {
   "cell_type": "code",
   "execution_count": 108,
   "metadata": {},
   "outputs": [
    {
     "name": "stdout",
     "output_type": "stream",
     "text": [
      "Rate1\n"
     ]
    }
   ],
   "source": [
    "m_rate = input('Rate')"
   ]
  },
  {
   "cell_type": "code",
   "execution_count": 114,
   "metadata": {},
   "outputs": [],
   "source": [
    "with open('error_log/test.log', 'rb') as f:\n",
    "    error_raw = json.load(f)"
   ]
  },
  {
   "cell_type": "code",
   "execution_count": 116,
   "metadata": {},
   "outputs": [],
   "source": [
    "error_0 = [i for i in error_raw if i[2] == 'PostbackError']\n",
    "error_1 = [i for i in error_raw if i[2] == 'RequestError']\n",
    "error_list = sorted(error_0 + error_1, key=lambda x: x[0])"
   ]
  },
  {
   "cell_type": "code",
   "execution_count": 117,
   "metadata": {},
   "outputs": [
    {
     "data": {
      "text/plain": [
       "[[63, 'http://www.dianping.com/shop/27215019', 'PostbackError'],\n",
       " [80, 'http://www.zhainanmao.com/2925.html', 'RequestError'],\n",
       " [100, '', 'RequestError'],\n",
       " [101, '', 'RequestError']]"
      ]
     },
     "execution_count": 117,
     "metadata": {},
     "output_type": "execute_result"
    }
   ],
   "source": [
    "error_list"
   ]
  },
  {
   "cell_type": "code",
   "execution_count": 102,
   "metadata": {},
   "outputs": [
    {
     "name": "stdout",
     "output_type": "stream",
     "text": [
      "「/用口交/替代/」/正确/应该/被/切开\n",
      "「/用/口交/替代/」/正确/应该/被/切开\n",
      "「/用/口交/替代/」/正确/应该/被/切开\n"
     ]
    }
   ],
   "source": [
    "del_word('口交')\n",
    "print('/'.join(cut_for_search('「用口交替代」正确应该被切开')))\n",
    "add_word('口交', freq=None, tag=None)\n",
    "print('/'.join(cut_for_search('「用口交替代」正确应该被切开')))\n",
    "suggest_freq('口交', tune=True)\n",
    "print('/'.join(cut_for_search('「用口交替代」正确应该被切开', HMM=False)))"
   ]
  },
  {
   "cell_type": "code",
   "execution_count": 1,
   "metadata": {},
   "outputs": [
    {
     "name": "stdout",
     "output_type": "stream",
     "text": [
      "Model loaded succeed\n",
      ">> Synonyms on loading ...\n"
     ]
    }
   ],
   "source": [
    "import pandas as pd\n",
    "import numpy as np\n",
    "import time, os, json\n",
    "# Customized tools\n",
    "from lib import *\n",
    "\n",
    "# from sklearn.model_selection import StratifiedShuffleSplit\n",
    "# from sklearn import linear_model"
   ]
  },
  {
   "cell_type": "code",
   "execution_count": 2,
   "metadata": {
    "collapsed": true
   },
   "outputs": [],
   "source": [
    "# pd.set_option('display.max_rows', 500)\n",
    "# pd.set_option('display.max_columns', 500)\n",
    "# pd.set_option('display.width', 1000)"
   ]
  },
  {
   "cell_type": "code",
   "execution_count": 16,
   "metadata": {
    "collapsed": true,
    "scrolled": true
   },
   "outputs": [],
   "source": [
    "# Load corpus\n",
    "corpus_df = pd.read_csv('corpus.csv').reset_index(drop = True)\n",
    "corpus_2_list = corpus_df[corpus_df['rate'] == 2]['token'].tolist()\n",
    "corpus_3_list = corpus_df[corpus_df['rate'] == 3]['token'].tolist()"
   ]
  },
  {
   "cell_type": "code",
   "execution_count": 4,
   "metadata": {
    "collapsed": true
   },
   "outputs": [],
   "source": [
    "import json\n",
    "with open('result_dump/test.json', 'rb') as f:\n",
    "    result_list = json.load(f)"
   ]
  },
  {
   "cell_type": "code",
   "execution_count": 12,
   "metadata": {},
   "outputs": [],
   "source": [
    "result_list_sorted = sorted(result_list, key=lambda x: x[0])"
   ]
  },
  {
   "cell_type": "code",
   "execution_count": 14,
   "metadata": {},
   "outputs": [],
   "source": [
    "title_list = [res[2] for res in result_list_sorted]"
   ]
  },
  {
   "cell_type": "code",
   "execution_count": 17,
   "metadata": {},
   "outputs": [
    {
     "name": "stderr",
     "output_type": "stream",
     "text": [
      "Building prefix dict from the default dictionary ...\n",
      "Loading model from cache /tmp/jieba.cache\n",
      "Loading model cost 0.925 seconds.\n",
      "Prefix dict has been built succesfully.\n"
     ]
    }
   ],
   "source": [
    "tran = Transformer(corpus_2_list, corpus_3_list)"
   ]
  },
  {
   "cell_type": "code",
   "execution_count": 29,
   "metadata": {},
   "outputs": [],
   "source": [
    "features = np.array(list(map(tran.get_feature, title_list)))"
   ]
  },
  {
   "cell_type": "code",
   "execution_count": 76,
   "metadata": {},
   "outputs": [
    {
     "name": "stdout",
     "output_type": "stream",
     "text": [
      "[  0.  99.   1.  99.  99.   0.   1.   0.   0.   0.   0.   0.   1.  99.   0.\n",
      "   0.   0.  99.   0.   0.  99.   0.   1.   0.   0.  99.   0.   0.   0.  99.\n",
      "   0.  99.   0.   0.   0.  99.   0.   0.   0.   0.   0.  99.   0.   0.   1.\n",
      "   0.   0.   0.   0.  99.   0.   0.   0.   1.  99.   0.   0.   0.   0.   0.\n",
      "   0.   0.   0.   1.   0.   0.   0.   0.   0.   0.   0.   0.   0.   1.   0.\n",
      "  99.   0.   0.  99.  99.   0.  99.   1.   0.   1.   0.   0.   0.   0.   1.\n",
      "   1.   0.  99.   0.   0.   1.   0.   0.]\n"
     ]
    }
   ],
   "source": [
    "import pickle\n",
    "from math import ceil\n",
    "\n",
    "class Classifier:\n",
    "    def __init__(self, model_pickle):\n",
    "        # Load the pickled sklearn model\n",
    "        with open(model_pickle, 'rb') as f:\n",
    "            self.model = pickle.load(f)\n",
    "    \n",
    "    def predict(self, X, diff_rate=0.3):\n",
    "        '''\n",
    "        Input: Feature np array (n_obs, n_feature)\n",
    "        Output: Prediction np array (n_obs, 1)\n",
    "        '''\n",
    "        # Initiate \n",
    "        output = np.empty(len(X))\n",
    "        probablity = self.model.predict_proba(X)\n",
    "        # If class probability difference >= threshold (diff_rate), then classify them directly\n",
    "        # Otherwise mark for manual inspection\n",
    "        diff = probablity[:, 1] - probablity[:, 0]\n",
    "        confident_index = abs(diff) >= diff_rate\n",
    "        # Use ceil to round up negative diff (meaning prob0 > prob1) to 0\n",
    "        # positive diff (prob0 < prob1) to 1\n",
    "        # There is no prob0 == prob1 case because condfident_index ensures diff\n",
    "        output[confident_index] = list(map(ceil, diff[confident_index]))\n",
    "        # -1 => manual classify\n",
    "        output[~confident_index] = 99\n",
    "        \n",
    "        return output\n",
    "        \n",
    "if __name__ == '__main__':\n",
    "    a = Classifier('Classifier/lr_model')\n",
    "    o = a.predict(features)"
   ]
  },
  {
   "cell_type": "code",
   "execution_count": 46,
   "metadata": {
    "scrolled": true
   },
   "outputs": [],
   "source": [
    "import math"
   ]
  },
  {
   "cell_type": "code",
   "execution_count": 43,
   "metadata": {},
   "outputs": [
    {
     "data": {
      "text/plain": [
       "array([[ 0.89850559,  0.10149441],\n",
       "       [ 0.46359369,  0.53640631],\n",
       "       [ 0.02133245,  0.97866755],\n",
       "       [ 0.57190941,  0.42809059],\n",
       "       [ 0.448607  ,  0.551393  ]])"
      ]
     },
     "execution_count": 43,
     "metadata": {},
     "output_type": "execute_result"
    }
   ],
   "source": [
    "proba = a.model.predict_proba(features)\n",
    "proba[:5]"
   ]
  },
  {
   "cell_type": "code",
   "execution_count": 54,
   "metadata": {},
   "outputs": [
    {
     "data": {
      "text/plain": [
       "array([-0.79701118,  0.07281261,  0.95733509, -0.14381881,  0.102786  ])"
      ]
     },
     "execution_count": 54,
     "metadata": {},
     "output_type": "execute_result"
    }
   ],
   "source": [
    "diff = proba[:, 1] - proba[:, 0]\n",
    "diff[:5]"
   ]
  },
  {
   "cell_type": "code",
   "execution_count": 66,
   "metadata": {
    "collapsed": true
   },
   "outputs": [],
   "source": [
    "z = np.empty(len(diff))"
   ]
  },
  {
   "cell_type": "code",
   "execution_count": 67,
   "metadata": {},
   "outputs": [],
   "source": [
    "index = abs(diff) >= .3"
   ]
  },
  {
   "cell_type": "code",
   "execution_count": 68,
   "metadata": {},
   "outputs": [],
   "source": [
    "z[index] = 1"
   ]
  },
  {
   "cell_type": "code",
   "execution_count": 72,
   "metadata": {},
   "outputs": [],
   "source": [
    "z[~index] = 99"
   ]
  },
  {
   "cell_type": "code",
   "execution_count": 78,
   "metadata": {},
   "outputs": [
    {
     "data": {
      "text/plain": [
       "[1.0,\n",
       " 99.0,\n",
       " 1.0,\n",
       " 99.0,\n",
       " 99.0,\n",
       " 1.0,\n",
       " 1.0,\n",
       " 1.0,\n",
       " 1.0,\n",
       " 1.0,\n",
       " 1.0,\n",
       " 1.0,\n",
       " 1.0,\n",
       " 99.0,\n",
       " 1.0,\n",
       " 1.0,\n",
       " 1.0,\n",
       " 99.0,\n",
       " 1.0,\n",
       " 1.0,\n",
       " 99.0,\n",
       " 1.0,\n",
       " 1.0,\n",
       " 1.0,\n",
       " 1.0,\n",
       " 99.0,\n",
       " 1.0,\n",
       " 1.0,\n",
       " 1.0,\n",
       " 99.0,\n",
       " 1.0,\n",
       " 99.0,\n",
       " 1.0,\n",
       " 1.0,\n",
       " 1.0,\n",
       " 99.0,\n",
       " 1.0,\n",
       " 1.0,\n",
       " 1.0,\n",
       " 1.0,\n",
       " 1.0,\n",
       " 99.0,\n",
       " 1.0,\n",
       " 1.0,\n",
       " 1.0,\n",
       " 1.0,\n",
       " 1.0,\n",
       " 1.0,\n",
       " 1.0,\n",
       " 99.0,\n",
       " 1.0,\n",
       " 1.0,\n",
       " 1.0,\n",
       " 1.0,\n",
       " 99.0,\n",
       " 1.0,\n",
       " 1.0,\n",
       " 1.0,\n",
       " 1.0,\n",
       " 1.0,\n",
       " 1.0,\n",
       " 1.0,\n",
       " 1.0,\n",
       " 1.0,\n",
       " 1.0,\n",
       " 1.0,\n",
       " 1.0,\n",
       " 1.0,\n",
       " 1.0,\n",
       " 1.0,\n",
       " 1.0,\n",
       " 1.0,\n",
       " 1.0,\n",
       " 1.0,\n",
       " 1.0,\n",
       " 99.0,\n",
       " 1.0,\n",
       " 1.0,\n",
       " 99.0,\n",
       " 99.0,\n",
       " 1.0,\n",
       " 99.0,\n",
       " 1.0,\n",
       " 1.0,\n",
       " 1.0,\n",
       " 1.0,\n",
       " 1.0,\n",
       " 1.0,\n",
       " 1.0,\n",
       " 1.0,\n",
       " 1.0,\n",
       " 1.0,\n",
       " 99.0,\n",
       " 1.0,\n",
       " 1.0,\n",
       " 1.0,\n",
       " 1.0,\n",
       " 1.0]"
      ]
     },
     "execution_count": 78,
     "metadata": {},
     "output_type": "execute_result"
    }
   ],
   "source": [
    "z.tolist()"
   ]
  },
  {
   "cell_type": "code",
   "execution_count": null,
   "metadata": {
    "collapsed": true
   },
   "outputs": [],
   "source": []
  },
  {
   "cell_type": "code",
   "execution_count": 97,
   "metadata": {
    "collapsed": true
   },
   "outputs": [],
   "source": [
    "# Only use title\n",
    "title_df = df[['url_index', 'url', 'title']]\n",
    "# Reset index and discard the old index\n",
    "title_df = title_df.sort_values(by='url_index').reset_index(drop=True)"
   ]
  },
  {
   "cell_type": "code",
   "execution_count": 98,
   "metadata": {
    "collapsed": true
   },
   "outputs": [],
   "source": [
    "with open('training_set', 'r') as f:\n",
    "    label_lines_raw = f.read().split('\\n')\n",
    "    label_lines = list(enumerate(label_lines_raw))\n",
    "\n",
    "mx = [['', '', '']] * 100\n",
    "for i, line_raw in label_lines:\n",
    "    url, label = line_raw.split(' ')\n",
    "    mx[i] = [i, url, int(label == '100')]"
   ]
  },
  {
   "cell_type": "code",
   "execution_count": 99,
   "metadata": {
    "collapsed": true
   },
   "outputs": [],
   "source": [
    "train = pd.DataFrame(mx, columns=['url_index', 'url', 'label'])"
   ]
  },
  {
   "cell_type": "code",
   "execution_count": 100,
   "metadata": {},
   "outputs": [],
   "source": [
    "final_df = pd.merge(title_df, train, how = 'outer', on = ['url_index', 'url'])"
   ]
  },
  {
   "cell_type": "code",
   "execution_count": 151,
   "metadata": {},
   "outputs": [],
   "source": [
    "final_df.loc[final_df.url_index == 63, 'title'] = '德哥大排档电话,地址,营业时间(图)-揭阳美食-大众点评网'"
   ]
  },
  {
   "cell_type": "code",
   "execution_count": null,
   "metadata": {
    "collapsed": true
   },
   "outputs": [],
   "source": []
  },
  {
   "cell_type": "code",
   "execution_count": 76,
   "metadata": {},
   "outputs": [],
   "source": [
    "title_list = open('Classifier/training_title_list.txt', 'r').read().split('\\n')"
   ]
  },
  {
   "cell_type": "code",
   "execution_count": 105,
   "metadata": {},
   "outputs": [
    {
     "data": {
      "text/plain": [
       "'www.zhainanmao.com'"
      ]
     },
     "execution_count": 105,
     "metadata": {},
     "output_type": "execute_result"
    }
   ],
   "source": [
    "title_list[80]"
   ]
  },
  {
   "cell_type": "code",
   "execution_count": 126,
   "metadata": {},
   "outputs": [],
   "source": [
    "row = title_df.loc[title_df.url_index == i]['title']"
   ]
  },
  {
   "cell_type": "code",
   "execution_count": 130,
   "metadata": {},
   "outputs": [
    {
     "data": {
      "text/plain": [
       "['不省心的民宿短租是该管管了 民宿,短租,旅游,监督 iPhone6|iPhone6 plus|iPhone5s|iPhone 5_威锋网']"
      ]
     },
     "execution_count": 130,
     "metadata": {},
     "output_type": "execute_result"
    }
   ],
   "source": [
    "row.tolist()"
   ]
  },
  {
   "cell_type": "code",
   "execution_count": 139,
   "metadata": {
    "collapsed": true
   },
   "outputs": [],
   "source": [
    "from jieba import cut_for_search"
   ]
  },
  {
   "cell_type": "code",
   "execution_count": 142,
   "metadata": {},
   "outputs": [
    {
     "data": {
      "text/plain": [
       "{'\\n',\n",
       " ' ',\n",
       " '个',\n",
       " '了',\n",
       " '吵架',\n",
       " '和',\n",
       " '夜晚',\n",
       " '开房',\n",
       " '心烦',\n",
       " '心烦意乱',\n",
       " '我',\n",
       " '找',\n",
       " '男人',\n",
       " '男友',\n",
       " '的',\n",
       " '解闷',\n",
       " '，'}"
      ]
     },
     "execution_count": 142,
     "metadata": {},
     "output_type": "execute_result"
    }
   ],
   "source": [
    "set(cut_for_search(title_df.title[4]))"
   ]
  },
  {
   "cell_type": "code",
   "execution_count": 144,
   "metadata": {},
   "outputs": [
    {
     "data": {
      "text/plain": [
       "url_index                                         4\n",
       "url          https://www.douban.com/note/640437046/\n",
       "title               \\n    和男友吵架的夜晚心烦意乱，我找了个男人开房解闷\\n\n",
       "Name: 4, dtype: object"
      ]
     },
     "execution_count": 144,
     "metadata": {},
     "output_type": "execute_result"
    }
   ],
   "source": [
    "title_df.loc[4]"
   ]
  },
  {
   "cell_type": "code",
   "execution_count": 133,
   "metadata": {},
   "outputs": [
    {
     "name": "stdout",
     "output_type": "stream",
     "text": [
      "大疆发布全新Zenmuse X7云台相机：6K分辨率RAW视频-大疆,Zenmuse X7,云台,相机,6K分辨率,RAW视频-驱动之家\n",
      "大疆发布全新Zenmuse X7云台相机：6K分辨率RAW视频-大疆,Zenmuse X7,云台,相机,6K分辨率,RAW视频-驱动之家\n",
      "一个出轨女人的后悔自白（在233楼有大家对我提出的疑问进行了详细的解答） - 情感.婚姻.家庭 -  广州妈妈论坛  \n",
      "一个出轨女人的后悔自白（在233楼有大家对我提出的疑问进行了详细的解答） - 情感.婚姻.家庭 - 广州妈妈论坛\n",
      "跟老公结婚当天，老公强行的让我和他的几个朋友一起爱爱，我是第一次，下面疼的几乎晕过去，屁眼也被插了，_飞华健康问答\n",
      "跟老公结婚当天，老公强行的让我和他的几个朋友一起爱爱，我是第一次，下面疼的几乎晕过去，屁眼也被插了，_飞华健康问答\n",
      "宝马X2量产版曝光：老X1换代重生？-宝马,X2,量产版,X1,SUV,-驱动之家\n",
      "宝马X2量产版曝光：老X1换代重生？-宝马,X2,量产版,X1,SUV,-驱动之家\n",
      "\n",
      "    和男友吵架的夜晚心烦意乱，我找了个男人开房解闷\n",
      "\n",
      "和男友吵架的夜晚心烦意乱，我找了个男人开房解闷\n",
      "日日煮DayDayCook_20170927期-大盘鸡一定要够大盘才尽兴！-生活-高清正版视频–爱奇艺\n",
      "日日煮DayDayCook_20170927期-大盘鸡一定要够大盘才尽兴！-生活-高清正版视频–爱奇艺\n",
      "充气娃娃真人男用半实体硅胶少妇全自动智能带阴毛成人情趣性用品-tmall.com天猫\n",
      "充气娃娃真人男用半实体硅胶少妇全自动智能带阴毛成人情趣性用品-tmall.com天猫\n",
      "蜂巢科技A轮融资6200万,工业级无人机寒冬\"起飞\"_新闻中心_比特网\n",
      "蜂巢科技A轮融资6200万,工业级无人机寒冬\"起飞\"_新闻中心_比特网\n",
      "美国FBA快递 - 福步外贸网,专注提供各类外贸服务\n",
      "美国FBA快递 - 福步外贸网,专注提供各类外贸服务\n",
      "不省心的民宿短租是该管管了 民宿,短租,旅游,监督 iPhone6|iPhone6 plus|iPhone5s|iPhone 5_威锋网\n",
      "不省心的民宿短租是该管管了 民宿,短租,旅游,监督 iPhone6|iPhone6 plus|iPhone5s|iPhone 5_威锋网\n"
     ]
    }
   ],
   "source": [
    "for i in range(10):\n",
    "    print(title_df.loc[title_df.url_index == i, 'title'].tolist()[0])\n",
    "    print(title_list[i])"
   ]
  },
  {
   "cell_type": "code",
   "execution_count": 64,
   "metadata": {},
   "outputs": [
    {
     "data": {
      "text/html": [
       "<div>\n",
       "<style>\n",
       "    .dataframe thead tr:only-child th {\n",
       "        text-align: right;\n",
       "    }\n",
       "\n",
       "    .dataframe thead th {\n",
       "        text-align: left;\n",
       "    }\n",
       "\n",
       "    .dataframe tbody tr th {\n",
       "        vertical-align: top;\n",
       "    }\n",
       "</style>\n",
       "<table border=\"1\" class=\"dataframe\">\n",
       "  <thead>\n",
       "    <tr style=\"text-align: right;\">\n",
       "      <th></th>\n",
       "      <th>url_index</th>\n",
       "      <th>url</th>\n",
       "      <th>title</th>\n",
       "      <th>label</th>\n",
       "    </tr>\n",
       "  </thead>\n",
       "  <tbody>\n",
       "    <tr>\n",
       "      <th>0</th>\n",
       "      <td>0</td>\n",
       "      <td>http://news.mydrivers.com/1/551/551632.htm</td>\n",
       "      <td>大疆发布全新Zenmuse X7云台相机：6K分辨率RAW视频-大疆,Zenmuse X7,...</td>\n",
       "      <td>1</td>\n",
       "    </tr>\n",
       "    <tr>\n",
       "      <th>1</th>\n",
       "      <td>1</td>\n",
       "      <td>http://www.gzmama.com/thread-4173173-1-1.html</td>\n",
       "      <td>一个出轨女人的后悔自白（在233楼有大家对我提出的疑问进行了详细的解答） - 情感.婚姻.家...</td>\n",
       "      <td>0</td>\n",
       "    </tr>\n",
       "    <tr>\n",
       "      <th>2</th>\n",
       "      <td>2</td>\n",
       "      <td>https://iask.fh21.com.cn/question/101044709.html</td>\n",
       "      <td>跟老公结婚当天，老公强行的让我和他的几个朋友一起爱爱，我是第一次，下面疼的几乎晕过去，屁眼也...</td>\n",
       "      <td>0</td>\n",
       "    </tr>\n",
       "    <tr>\n",
       "      <th>3</th>\n",
       "      <td>3</td>\n",
       "      <td>http://news.mydrivers.com/1/551/551360.htm</td>\n",
       "      <td>宝马X2量产版曝光：老X1换代重生？-宝马,X2,量产版,X1,SUV,-驱动之家</td>\n",
       "      <td>1</td>\n",
       "    </tr>\n",
       "    <tr>\n",
       "      <th>4</th>\n",
       "      <td>4</td>\n",
       "      <td>https://www.douban.com/note/640437046/</td>\n",
       "      <td>\\n    和男友吵架的夜晚心烦意乱，我找了个男人开房解闷\\n</td>\n",
       "      <td>0</td>\n",
       "    </tr>\n",
       "    <tr>\n",
       "      <th>5</th>\n",
       "      <td>5</td>\n",
       "      <td>http://www.iqiyi.com/v_19rr8rrxco.html</td>\n",
       "      <td>日日煮DayDayCook_20170927期-大盘鸡一定要够大盘才尽兴！-生活-高清正版视...</td>\n",
       "      <td>1</td>\n",
       "    </tr>\n",
       "    <tr>\n",
       "      <th>6</th>\n",
       "      <td>6</td>\n",
       "      <td>https://detail.tmall.com/item.htm?spm=a230r.1....</td>\n",
       "      <td>充气娃娃真人男用半实体硅胶少妇全自动智能带阴毛成人情趣性用品-tmall.com天猫</td>\n",
       "      <td>0</td>\n",
       "    </tr>\n",
       "    <tr>\n",
       "      <th>7</th>\n",
       "      <td>7</td>\n",
       "      <td>http://news.chinabyte.com/101/14308601.shtml</td>\n",
       "      <td>蜂巢科技A轮融资6200万,工业级无人机寒冬\"起飞\"_新闻中心_比特网</td>\n",
       "      <td>1</td>\n",
       "    </tr>\n",
       "    <tr>\n",
       "      <th>8</th>\n",
       "      <td>8</td>\n",
       "      <td>http://www.fobshanghai.com/goods/4388/</td>\n",
       "      <td>美国FBA快递 - 福步外贸网,专注提供各类外贸服务</td>\n",
       "      <td>1</td>\n",
       "    </tr>\n",
       "    <tr>\n",
       "      <th>9</th>\n",
       "      <td>9</td>\n",
       "      <td>http://www.feng.com/view/Views/2017-10-11/The-...</td>\n",
       "      <td>不省心的民宿短租是该管管了 民宿,短租,旅游,监督 iPhone6|iPhone6 plus...</td>\n",
       "      <td>1</td>\n",
       "    </tr>\n",
       "    <tr>\n",
       "      <th>10</th>\n",
       "      <td>10</td>\n",
       "      <td>http://life.cqnews.net/html/2017-09/30/content...</td>\n",
       "      <td>重庆这个地方竟私藏了百亩玫瑰花田-资讯频道-华龙网</td>\n",
       "      <td>1</td>\n",
       "    </tr>\n",
       "    <tr>\n",
       "      <th>11</th>\n",
       "      <td>11</td>\n",
       "      <td>http://news.17173.com/content/10012017/0600301...</td>\n",
       "      <td>综述：蓝洞确认腾讯代理绝地求生 未成年人不理性消费可退款_网络游戏新闻_17173.com中...</td>\n",
       "      <td>1</td>\n",
       "    </tr>\n",
       "    <tr>\n",
       "      <th>12</th>\n",
       "      <td>12</td>\n",
       "      <td>http://jiemi.baike.com/pa/detail?id=5000</td>\n",
       "      <td>历史上最好色的女人，不仅拥有30个男宠，还逼迫自己的姑父就范|南北朝|刘楚玉|男宠|山阴公...</td>\n",
       "      <td>0</td>\n",
       "    </tr>\n",
       "    <tr>\n",
       "      <th>13</th>\n",
       "      <td>13</td>\n",
       "      <td>http://travel.qingdaonews.com/gb/content/2017-...</td>\n",
       "      <td>单日接客近7000人次 青岛邮轮母港创开港纪录 - 青岛新闻网</td>\n",
       "      <td>1</td>\n",
       "    </tr>\n",
       "    <tr>\n",
       "      <th>14</th>\n",
       "      <td>14</td>\n",
       "      <td>http://news.ifeng.com/a/20170401/50876793_0.shtml</td>\n",
       "      <td>七旬知青往事：最忘不了在北大荒拉练时的那顿饺子_凤凰历史</td>\n",
       "      <td>1</td>\n",
       "    </tr>\n",
       "    <tr>\n",
       "      <th>15</th>\n",
       "      <td>15</td>\n",
       "      <td>http://baike.focus.cn/tj/detail/100113.html</td>\n",
       "      <td>单身女性买房必备的七条购房攻略_天津搜狐焦点网</td>\n",
       "      <td>1</td>\n",
       "    </tr>\n",
       "    <tr>\n",
       "      <th>16</th>\n",
       "      <td>16</td>\n",
       "      <td>https://www.wtoip.com/patent/c01/?sort=pup&amp;pmi...</td>\n",
       "      <td>专利申请业务-专利服务流程及费用-汇桔网服务商城</td>\n",
       "      <td>1</td>\n",
       "    </tr>\n",
       "    <tr>\n",
       "      <th>17</th>\n",
       "      <td>17</td>\n",
       "      <td>http://www.toutiao.com/a6469116246553002510/</td>\n",
       "      <td>结婚十年，不抵一夜温存，我恨同学聚会</td>\n",
       "      <td>0</td>\n",
       "    </tr>\n",
       "    <tr>\n",
       "      <th>18</th>\n",
       "      <td>18</td>\n",
       "      <td>http://www.baike.com/wiki/%E6%9A%B9%E7%BD%97%E...</td>\n",
       "      <td>暹罗猫_互动百科\\n</td>\n",
       "      <td>1</td>\n",
       "    </tr>\n",
       "    <tr>\n",
       "      <th>19</th>\n",
       "      <td>19</td>\n",
       "      <td>https://tuan.gome.com.cn/deal/Q8800649047.html...</td>\n",
       "      <td>十八子作雅致七件套刀团购价格-国美团购</td>\n",
       "      <td>1</td>\n",
       "    </tr>\n",
       "    <tr>\n",
       "      <th>20</th>\n",
       "      <td>20</td>\n",
       "      <td>http://bbs.tianya.cn/post-266-121603-1.shtml</td>\n",
       "      <td>记录我的数次嫖妓经历和感受（开帖为忏悔）！_西安_天涯论坛_天涯社区</td>\n",
       "      <td>0</td>\n",
       "    </tr>\n",
       "    <tr>\n",
       "      <th>21</th>\n",
       "      <td>21</td>\n",
       "      <td>http://blog.sina.com.cn/s/blog_65bfb8110102x75...</td>\n",
       "      <td>秋实评论：人工智能电视,谁立潮头？_秋实评论_新浪博客</td>\n",
       "      <td>1</td>\n",
       "    </tr>\n",
       "    <tr>\n",
       "      <th>22</th>\n",
       "      <td>22</td>\n",
       "      <td>http://club.kdnet.net/dispbbs.asp?id=11621552&amp;...</td>\n",
       "      <td>老师与女学生通奸致其怀孕 妻子拉横幅举报 【凯迪华南】-凯迪社区</td>\n",
       "      <td>0</td>\n",
       "    </tr>\n",
       "    <tr>\n",
       "      <th>23</th>\n",
       "      <td>23</td>\n",
       "      <td>http://finance.17ok.com/news/257/2017/0930/260...</td>\n",
       "      <td>茅台发布品牌“瘦身”新策略 已砍155个品牌 -- 财界网 -- 中国财经金融门户</td>\n",
       "      <td>1</td>\n",
       "    </tr>\n",
       "    <tr>\n",
       "      <th>24</th>\n",
       "      <td>24</td>\n",
       "      <td>http://www.xhwhouse.com/news/11340.htm</td>\n",
       "      <td>马来西亚房产优点分析 永久产权租赁回报高-新海外</td>\n",
       "      <td>1</td>\n",
       "    </tr>\n",
       "    <tr>\n",
       "      <th>25</th>\n",
       "      <td>25</td>\n",
       "      <td>http://www.cnblogs.com/blvt/p/7261833.html</td>\n",
       "      <td>铁轨出轨总数目（卡塔兰数及大数的运用） - 余生漫漫浪 - 博客园</td>\n",
       "      <td>1</td>\n",
       "    </tr>\n",
       "    <tr>\n",
       "      <th>26</th>\n",
       "      <td>26</td>\n",
       "      <td>https://baike.baidu.com/tashuo/browse/content?...</td>\n",
       "      <td>【TA说】中国有一种比大熊猫还珍贵的猴子，因为不会卖萌错失国宝宝座_百度百科</td>\n",
       "      <td>1</td>\n",
       "    </tr>\n",
       "    <tr>\n",
       "      <th>27</th>\n",
       "      <td>27</td>\n",
       "      <td>http://top.51.la/os.htm</td>\n",
       "      <td>操作系统使用率 - 我要啦 51.La 综合数据</td>\n",
       "      <td>1</td>\n",
       "    </tr>\n",
       "    <tr>\n",
       "      <th>28</th>\n",
       "      <td>28</td>\n",
       "      <td>http://stock.qq.com/a/20170925/006337.htm</td>\n",
       "      <td>格力表示暂不会举牌逼宫海立股份 董明珠或不想顶野蛮人之名_证券_腾讯网</td>\n",
       "      <td>1</td>\n",
       "    </tr>\n",
       "    <tr>\n",
       "      <th>29</th>\n",
       "      <td>29</td>\n",
       "      <td>http://www.qiwen007.com/pc-wy/kejiqianyan/1524...</td>\n",
       "      <td>“速度与激情”版烧烤炉横空出世-奇闻007</td>\n",
       "      <td>1</td>\n",
       "    </tr>\n",
       "    <tr>\n",
       "      <th>30</th>\n",
       "      <td>30</td>\n",
       "      <td>http://www.cnblogs.com/Kmoon/archive/2012/04/1...</td>\n",
       "      <td>写代码容易吗，放松一下吧，苍老师的高清片子 - 独孤求欢 - 博客园</td>\n",
       "      <td>0</td>\n",
       "    </tr>\n",
       "    <tr>\n",
       "      <th>31</th>\n",
       "      <td>31</td>\n",
       "      <td>http://news.mydrivers.com/1/533/533770.htm</td>\n",
       "      <td>续航神机小米Max 2发布会直播：评论送红米4A-小米Max 2,发布会,直播,小米-驱动之家</td>\n",
       "      <td>1</td>\n",
       "    </tr>\n",
       "    <tr>\n",
       "      <th>32</th>\n",
       "      <td>32</td>\n",
       "      <td>http://world.huanqiu.com/article/2017-09/11230...</td>\n",
       "      <td>这个国家突然宣布：弃用美元，改用人民币！_国际新闻_环球网</td>\n",
       "      <td>1</td>\n",
       "    </tr>\n",
       "    <tr>\n",
       "      <th>33</th>\n",
       "      <td>33</td>\n",
       "      <td>https://v.qq.com/x/cover/dac59lj8cufuekj.html</td>\n",
       "      <td>意外的恋爱时光_电影_高清1080P在线观看_腾讯视频</td>\n",
       "      <td>1</td>\n",
       "    </tr>\n",
       "    <tr>\n",
       "      <th>34</th>\n",
       "      <td>34</td>\n",
       "      <td>https://www.douban.com/group/topic/106901948/</td>\n",
       "      <td>\\n    护肤不贵| 高性价二次清洁爽肤水盘点\\n</td>\n",
       "      <td>1</td>\n",
       "    </tr>\n",
       "    <tr>\n",
       "      <th>35</th>\n",
       "      <td>35</td>\n",
       "      <td>https://www.bilibili.com/video/av2867988/</td>\n",
       "      <td>【尸体派对2】上次4P不过瘾，这是最后一P了_单机游戏_游戏_bilibili_哔哩哔哩</td>\n",
       "      <td>0</td>\n",
       "    </tr>\n",
       "    <tr>\n",
       "      <th>36</th>\n",
       "      <td>36</td>\n",
       "      <td>http://news.eastday.com/w/20170925/u1a13298620...</td>\n",
       "      <td>默克尔赢得德国大选 与谁组阁成重要悬念-默克尔 德国大选 德国经济 黑天鹅 选举 另类选择 ...</td>\n",
       "      <td>1</td>\n",
       "    </tr>\n",
       "    <tr>\n",
       "      <th>37</th>\n",
       "      <td>37</td>\n",
       "      <td>http://v.pptv.com/show/l1kko7kE7y2QDnY.html?rc...</td>\n",
       "      <td>王牌特工2：黄金圈(“花式装备”版预告)_高清在线观看 - PP视频一起玩出精彩 - 原聚力...</td>\n",
       "      <td>1</td>\n",
       "    </tr>\n",
       "    <tr>\n",
       "      <th>38</th>\n",
       "      <td>38</td>\n",
       "      <td>http://blog.renren.com/share/880891199/1802520...</td>\n",
       "      <td>在这场春游中，我们一起走进风景如画的双龙峡 – 【人人分享-人人网】</td>\n",
       "      <td>1</td>\n",
       "    </tr>\n",
       "    <tr>\n",
       "      <th>39</th>\n",
       "      <td>39</td>\n",
       "      <td>http://www.v1.cn/video/14668488.shtml</td>\n",
       "      <td>台式五香炸猪肉 丨 美味菜谱回顾-第一视频</td>\n",
       "      <td>1</td>\n",
       "    </tr>\n",
       "    <tr>\n",
       "      <th>40</th>\n",
       "      <td>40</td>\n",
       "      <td>http://travel.sina.com.cn/outbound/pages/2017-...</td>\n",
       "      <td>吃在柬埔寨｜火锅烤肉两不误、还能吃7种肉的柬式烧烤，你想试试吗_新浪旅游_新浪网</td>\n",
       "      <td>1</td>\n",
       "    </tr>\n",
       "    <tr>\n",
       "      <th>41</th>\n",
       "      <td>41</td>\n",
       "      <td>http://some.blog.51cto.com/6388/2772</td>\n",
       "      <td>做爱称呼 - 我的博客听我的 - 51CTO技术博客</td>\n",
       "      <td>0</td>\n",
       "    </tr>\n",
       "    <tr>\n",
       "      <th>42</th>\n",
       "      <td>42</td>\n",
       "      <td>http://bbs.tianya.cn/post-travel-820697-1.shtml</td>\n",
       "      <td>【走读彭水】 豆游记——沿着迤逦乌江，和你在彭水相逢_旅游休闲_天涯论坛_天涯社区</td>\n",
       "      <td>1</td>\n",
       "    </tr>\n",
       "    <tr>\n",
       "      <th>43</th>\n",
       "      <td>43</td>\n",
       "      <td>http://www.taoche.com/buycar/b-dealerkcw538581...</td>\n",
       "      <td>【北京朝阳区二手Boxster】39.5万_黄色09款Boxster_Boxster二手车_...</td>\n",
       "      <td>1</td>\n",
       "    </tr>\n",
       "    <tr>\n",
       "      <th>44</th>\n",
       "      <td>44</td>\n",
       "      <td>http://ssds12.blog.hexun.com/104649502_d.html</td>\n",
       "      <td>外围女真实生活揭秘：一夜遍体鳞伤换来30万_食神的神_食神的神的和讯博客</td>\n",
       "      <td>0</td>\n",
       "    </tr>\n",
       "    <tr>\n",
       "      <th>45</th>\n",
       "      <td>45</td>\n",
       "      <td>https://www.zhihu.com/question/21768551</td>\n",
       "      <td>超级细菌真的就没的治了吗？ - 知乎</td>\n",
       "      <td>1</td>\n",
       "    </tr>\n",
       "    <tr>\n",
       "      <th>46</th>\n",
       "      <td>46</td>\n",
       "      <td>https://st.hujiang.com/topic/1712323321233/</td>\n",
       "      <td>\\r\\n\\t【泡面翻】2017.10.10 法语泡一泡 - 团结就是力量_爱翻不凡翻译社_语...</td>\n",
       "      <td>1</td>\n",
       "    </tr>\n",
       "    <tr>\n",
       "      <th>47</th>\n",
       "      <td>47</td>\n",
       "      <td>http://city.eastday.com/gk/20170925/u1a1329844...</td>\n",
       "      <td>唯美樱花木道 虹桥商务区未来十大水景有看头-区域频道-东方网</td>\n",
       "      <td>1</td>\n",
       "    </tr>\n",
       "    <tr>\n",
       "      <th>48</th>\n",
       "      <td>48</td>\n",
       "      <td>http://news.xinhuanet.com/air/2015-11/11/c_128...</td>\n",
       "      <td>\\r\\n航空公司机票优惠力度大-新华网\\r\\n</td>\n",
       "      <td>1</td>\n",
       "    </tr>\n",
       "    <tr>\n",
       "      <th>49</th>\n",
       "      <td>49</td>\n",
       "      <td>http://yq.voc.com.cn/article/201506/2015062422...</td>\n",
       "      <td>舆情分析：兰陵一副校长致初中女生\"怀孕\" - 案例库 - 华声舆情 - 华声在线</td>\n",
       "      <td>0</td>\n",
       "    </tr>\n",
       "    <tr>\n",
       "      <th>50</th>\n",
       "      <td>50</td>\n",
       "      <td>http://www.toutiao.com/a6471106472599093773/</td>\n",
       "      <td>不要再傻傻的用酵母发面了，用它只需2分钟，做出馒头又软又好吃</td>\n",
       "      <td>1</td>\n",
       "    </tr>\n",
       "    <tr>\n",
       "      <th>51</th>\n",
       "      <td>51</td>\n",
       "      <td>http://news.163.com/photoview/00AN0001/2276780...</td>\n",
       "      <td>广场大全景再现 国庆花坛扮靓京城_网易新闻</td>\n",
       "      <td>1</td>\n",
       "    </tr>\n",
       "    <tr>\n",
       "      <th>52</th>\n",
       "      <td>52</td>\n",
       "      <td>http://economy.youth.cn/dtxw/201709/t20170925_...</td>\n",
       "      <td>抑制“煤超疯” 发改委连续发声保障煤炭供应_新闻频道_中国青年网</td>\n",
       "      <td>1</td>\n",
       "    </tr>\n",
       "    <tr>\n",
       "      <th>53</th>\n",
       "      <td>53</td>\n",
       "      <td>https://iask.fh21.com.cn/question/2937670.html</td>\n",
       "      <td>在做爱中，老婆感觉下面流水是怎么回事_飞华健康问答</td>\n",
       "      <td>0</td>\n",
       "    </tr>\n",
       "    <tr>\n",
       "      <th>54</th>\n",
       "      <td>54</td>\n",
       "      <td>http://club.qingdaonews.com/showAnnounce_1246_...</td>\n",
       "      <td>城市街拍:秋意渐浓 街头美女运动范十足-青青岛社区</td>\n",
       "      <td>1</td>\n",
       "    </tr>\n",
       "    <tr>\n",
       "      <th>55</th>\n",
       "      <td>55</td>\n",
       "      <td>http://news.qingdaonews.com/shehui/2017-09/28/...</td>\n",
       "      <td>96岁老兵病床上交出最后党费:曾用70年找回党籍 - 青岛新闻网</td>\n",
       "      <td>1</td>\n",
       "    </tr>\n",
       "    <tr>\n",
       "      <th>56</th>\n",
       "      <td>56</td>\n",
       "      <td>http://special.csdncms.csdn.net/CCTC2017/</td>\n",
       "      <td>中国云计算技术大会 2017</td>\n",
       "      <td>1</td>\n",
       "    </tr>\n",
       "    <tr>\n",
       "      <th>57</th>\n",
       "      <td>57</td>\n",
       "      <td>http://378213986.blog.51cto.com/11691396/1954136</td>\n",
       "      <td>Map集合以及Collections集合工具类 - 天纵之欲 - 51CTO技术博客</td>\n",
       "      <td>1</td>\n",
       "    </tr>\n",
       "    <tr>\n",
       "      <th>58</th>\n",
       "      <td>58</td>\n",
       "      <td>http://yq.rednet.cn/c/2017/09/27/4436447.htm</td>\n",
       "      <td>华凯创意2017上半年实现营收1.98亿元_园区频道_红网</td>\n",
       "      <td>1</td>\n",
       "    </tr>\n",
       "    <tr>\n",
       "      <th>59</th>\n",
       "      <td>59</td>\n",
       "      <td>https://www.zhihu.com/question/19746551/answer...</td>\n",
       "      <td>深圳有什么有特色好去处？ - 知乎</td>\n",
       "      <td>1</td>\n",
       "    </tr>\n",
       "    <tr>\n",
       "      <th>60</th>\n",
       "      <td>60</td>\n",
       "      <td>http://v.youku.com/v_show/id_XMzA1NzU5MDY0OA==...</td>\n",
       "      <td>—在线播放—优酷网，视频高清在线观看</td>\n",
       "      <td>1</td>\n",
       "    </tr>\n",
       "    <tr>\n",
       "      <th>61</th>\n",
       "      <td>61</td>\n",
       "      <td>http://www.qingdaonews.com/content/2012-07/05/...</td>\n",
       "      <td>2012消费电子博览会 NEC科技打造“智慧城市”－青岛新闻网</td>\n",
       "      <td>1</td>\n",
       "    </tr>\n",
       "    <tr>\n",
       "      <th>62</th>\n",
       "      <td>62</td>\n",
       "      <td>http://blog.csdn.net/jiashuai94/article/detail...</td>\n",
       "      <td>SurfaceView+MediaPlayer封装之路 - CSDN博客</td>\n",
       "      <td>1</td>\n",
       "    </tr>\n",
       "    <tr>\n",
       "      <th>63</th>\n",
       "      <td>64</td>\n",
       "      <td>http://dzh.mop.com/a/150313103620000219707.html</td>\n",
       "      <td>新娘遭多人洞房乱摸：闹洞房新娘被众人乱摸过程-五花八门-猫扑大杂烩-猫扑网</td>\n",
       "      <td>0</td>\n",
       "    </tr>\n",
       "    <tr>\n",
       "      <th>64</th>\n",
       "      <td>65</td>\n",
       "      <td>http://www.chinaz.com/manage/2017/0928/809479....</td>\n",
       "      <td>所谓粉丝经济，是巨大的机会还是陷阱？  - 站长之家</td>\n",
       "      <td>1</td>\n",
       "    </tr>\n",
       "    <tr>\n",
       "      <th>65</th>\n",
       "      <td>66</td>\n",
       "      <td>http://bbs.feeyo.com/posts/594/topic-0011-5943...</td>\n",
       "      <td>[讨论]关于增班香港――苏腊巴亚、新开港龙香港――棉兰、广州、厦门――苏腊巴亚的讨论</td>\n",
       "      <td>1</td>\n",
       "    </tr>\n",
       "    <tr>\n",
       "      <th>66</th>\n",
       "      <td>67</td>\n",
       "      <td>http://www.iqiyi.com/v_19rrkef8yk.html</td>\n",
       "      <td>达人厨房_20151230期-武汉人每天的味觉，都在这碗面中醒来-生活-高清正版视频–爱奇艺</td>\n",
       "      <td>1</td>\n",
       "    </tr>\n",
       "    <tr>\n",
       "      <th>67</th>\n",
       "      <td>68</td>\n",
       "      <td>http://face.39.net/a/170925/5710611.html</td>\n",
       "      <td>秋季要防晒吗？秋季如何选防晒霜？_39健康网_美容</td>\n",
       "      <td>1</td>\n",
       "    </tr>\n",
       "    <tr>\n",
       "      <th>68</th>\n",
       "      <td>69</td>\n",
       "      <td>http://www.cnnic.cn/hlwfzyj/hlwxzbg/</td>\n",
       "      <td>中国互联网络信息中心</td>\n",
       "      <td>1</td>\n",
       "    </tr>\n",
       "    <tr>\n",
       "      <th>69</th>\n",
       "      <td>70</td>\n",
       "      <td>http://www.keketui.com/p/AH9Lt2.html</td>\n",
       "      <td>“安全生产，责任重于泰山”梅河口市体育中心进行基础设施安全隐患大排查|可可推</td>\n",
       "      <td>1</td>\n",
       "    </tr>\n",
       "    <tr>\n",
       "      <th>70</th>\n",
       "      <td>71</td>\n",
       "      <td>https://zhidao.baidu.com/question/414186448.ht...</td>\n",
       "      <td>求歌词：李志 米店_百度知道</td>\n",
       "      <td>1</td>\n",
       "    </tr>\n",
       "    <tr>\n",
       "      <th>71</th>\n",
       "      <td>72</td>\n",
       "      <td>http://v.cyol.com/content/2017-09/04/content_1...</td>\n",
       "      <td>专访传统旗袍手艺人史丽萍-中青在线</td>\n",
       "      <td>1</td>\n",
       "    </tr>\n",
       "    <tr>\n",
       "      <th>72</th>\n",
       "      <td>73</td>\n",
       "      <td>http://article.zhaopin.com/marketing/pub/view/...</td>\n",
       "      <td>2017年秋季白领事业信心指数下降，跳槽比例高</td>\n",
       "      <td>1</td>\n",
       "    </tr>\n",
       "    <tr>\n",
       "      <th>73</th>\n",
       "      <td>74</td>\n",
       "      <td>http://sidalin.blog.hexun.com/113111184_d.html</td>\n",
       "      <td>你不知道的100个中国大案之七十五-杀人焚尸的美丽女死囚任雪（被老厂长欺骗诱奸后残杀其女儿报...</td>\n",
       "      <td>0</td>\n",
       "    </tr>\n",
       "    <tr>\n",
       "      <th>74</th>\n",
       "      <td>75</td>\n",
       "      <td>http://scitech.people.com.cn/n1/2017/0925/c100...</td>\n",
       "      <td>科普：食草恐龙有时也“开荤”--科技--人民网</td>\n",
       "      <td>1</td>\n",
       "    </tr>\n",
       "    <tr>\n",
       "      <th>75</th>\n",
       "      <td>76</td>\n",
       "      <td>http://lvxing.pgc.panda.tv/270?channel=web_pgc...</td>\n",
       "      <td>侣行_张昕宇梁红的日常_熊猫直播_泛娱乐直播平台</td>\n",
       "      <td>1</td>\n",
       "    </tr>\n",
       "    <tr>\n",
       "      <th>76</th>\n",
       "      <td>77</td>\n",
       "      <td>http://news.163.com/17/0930/01/CVHU76UT0001875...</td>\n",
       "      <td>两架政府包机飞越19国 赴海外接回被困中方人员_网易新闻</td>\n",
       "      <td>1</td>\n",
       "    </tr>\n",
       "    <tr>\n",
       "      <th>77</th>\n",
       "      <td>78</td>\n",
       "      <td>http://www.self.com.cn/life/food/news_1955693d...</td>\n",
       "      <td>夏日小酌 来一杯葡萄柚皮斯科酸鸡尾酒_生活_悦己网</td>\n",
       "      <td>1</td>\n",
       "    </tr>\n",
       "    <tr>\n",
       "      <th>78</th>\n",
       "      <td>79</td>\n",
       "      <td>https://movie.douban.com/subject/20433454/</td>\n",
       "      <td>\\n        美味的性爱，美味的想象 (豆瓣)\\n</td>\n",
       "      <td>0</td>\n",
       "    </tr>\n",
       "    <tr>\n",
       "      <th>79</th>\n",
       "      <td>81</td>\n",
       "      <td>http://v.youku.com/v_show/id_XNTg4MDQwMDQ=.html</td>\n",
       "      <td>实拍KTV坐台女的非法交易—在线播放—优酷网，视频高清在线观看</td>\n",
       "      <td>0</td>\n",
       "    </tr>\n",
       "    <tr>\n",
       "      <th>80</th>\n",
       "      <td>82</td>\n",
       "      <td>https://segmentfault.com/a/1190000011422995</td>\n",
       "      <td>可能是Android平台上最快的图片压缩框架 - Tech - SegmentFault</td>\n",
       "      <td>1</td>\n",
       "    </tr>\n",
       "    <tr>\n",
       "      <th>81</th>\n",
       "      <td>83</td>\n",
       "      <td>https://www.bilibili.com/video/av8118269/</td>\n",
       "      <td>【福利/欢乐向/AMV】新年就要啪啪啪 我可能遇见了假啪啪啪啪@FB_JAMes_MAD·A...</td>\n",
       "      <td>0</td>\n",
       "    </tr>\n",
       "    <tr>\n",
       "      <th>82</th>\n",
       "      <td>84</td>\n",
       "      <td>https://www.zhihu.com/question/24931495</td>\n",
       "      <td>大麻会对生活造成危害吗？ - 知乎</td>\n",
       "      <td>0</td>\n",
       "    </tr>\n",
       "    <tr>\n",
       "      <th>83</th>\n",
       "      <td>85</td>\n",
       "      <td>http://tv.sohu.com/20170923/n600176295.shtml</td>\n",
       "      <td>视频-葡萄牙大师赛首轮 莱腾、坎瑟亚并列第一 - 搜狐视频</td>\n",
       "      <td>1</td>\n",
       "    </tr>\n",
       "    <tr>\n",
       "      <th>84</th>\n",
       "      <td>86</td>\n",
       "      <td>http://news.china.com/socialgd/10000169/201709...</td>\n",
       "      <td>网络惊现售卖原味丝袜二手内裤 交易背后不堪入目_新闻频道_中华网</td>\n",
       "      <td>0</td>\n",
       "    </tr>\n",
       "    <tr>\n",
       "      <th>85</th>\n",
       "      <td>87</td>\n",
       "      <td>http://hisense.zhiye.com/sjobs?k=&amp;c=&amp;p=3^-1,1^...</td>\n",
       "      <td>海信集团网申系统--职位列表</td>\n",
       "      <td>1</td>\n",
       "    </tr>\n",
       "    <tr>\n",
       "      <th>86</th>\n",
       "      <td>88</td>\n",
       "      <td>http://www.iqiyi.com/v_19rr8tcbps.html</td>\n",
       "      <td>第一印象天气预报_20170926期-最天气之冷空气与秋老虎的博弈-资讯-高清正版视频-爱奇艺</td>\n",
       "      <td>1</td>\n",
       "    </tr>\n",
       "    <tr>\n",
       "      <th>87</th>\n",
       "      <td>89</td>\n",
       "      <td>http://www.iqiyi.com/v_19rrnm9d6k.html</td>\n",
       "      <td>《同意》“把衣服全脱了，不要问我任何问题”-广告-高清视频–爱奇艺</td>\n",
       "      <td>0</td>\n",
       "    </tr>\n",
       "    <tr>\n",
       "      <th>88</th>\n",
       "      <td>90</td>\n",
       "      <td>http://bbs.51cto.com/thread-1512089-1.html</td>\n",
       "      <td>7年,怎么从一个三流学校的高职生到自主创业的CEO - 挨踢生活 -  51CTO技术论坛_...</td>\n",
       "      <td>1</td>\n",
       "    </tr>\n",
       "    <tr>\n",
       "      <th>89</th>\n",
       "      <td>91</td>\n",
       "      <td>http://news.chinabyte.com/hot/489/13759989_2.s...</td>\n",
       "      <td>熊猫tv色青女主播直播间撅屁屁 脱衣做爱被封_比特新闻</td>\n",
       "      <td>0</td>\n",
       "    </tr>\n",
       "    <tr>\n",
       "      <th>90</th>\n",
       "      <td>92</td>\n",
       "      <td>http://www.toutiao.com/a6189451402894180610/</td>\n",
       "      <td>孕妇被绑铁柱殴打，偷东西就能滥用私刑？</td>\n",
       "      <td>0</td>\n",
       "    </tr>\n",
       "    <tr>\n",
       "      <th>91</th>\n",
       "      <td>93</td>\n",
       "      <td>http://www.huodongxing.com/event/7407592563300</td>\n",
       "      <td>南色美术活动基地 · 创意现场（第十六期）_精彩城市生活，尽在活动行！！</td>\n",
       "      <td>1</td>\n",
       "    </tr>\n",
       "    <tr>\n",
       "      <th>92</th>\n",
       "      <td>94</td>\n",
       "      <td>http://www.toutiao.com/a6470330592457130510/</td>\n",
       "      <td>分手你还赚了一个处，你不亏！</td>\n",
       "      <td>0</td>\n",
       "    </tr>\n",
       "    <tr>\n",
       "      <th>93</th>\n",
       "      <td>95</td>\n",
       "      <td>http://news.china.com/socialgd/10000169/201709...</td>\n",
       "      <td>九只梅花鹿亮相北京故宫博物院(组图)_新闻频道_中华网</td>\n",
       "      <td>1</td>\n",
       "    </tr>\n",
       "    <tr>\n",
       "      <th>94</th>\n",
       "      <td>96</td>\n",
       "      <td>http://www.cnblogs.com/alamiye010/archive/2011...</td>\n",
       "      <td>Silverlight 2.5D RPG游戏技巧与特效处理(Game Effects)：目录...</td>\n",
       "      <td>1</td>\n",
       "    </tr>\n",
       "    <tr>\n",
       "      <th>95</th>\n",
       "      <td>97</td>\n",
       "      <td>http://blog.renren.com/share/342270153/1809091...</td>\n",
       "      <td>大尺度无底线直播 – 【人人分享-人人网】</td>\n",
       "      <td>0</td>\n",
       "    </tr>\n",
       "    <tr>\n",
       "      <th>96</th>\n",
       "      <td>98</td>\n",
       "      <td>http://life.eastday.com/eastday/dfsh/n992996/u...</td>\n",
       "      <td>传奇芝士挞中国开“烤” BAKE媒体分享会上海举办-东方生活-东方网</td>\n",
       "      <td>1</td>\n",
       "    </tr>\n",
       "    <tr>\n",
       "      <th>97</th>\n",
       "      <td>99</td>\n",
       "      <td>http://news.gmw.cn/2017-09/25/content_26314544...</td>\n",
       "      <td>\\r\\n汤炳正：朴学的经世致用\\r\\n_光明日报\\r\\n_光明网</td>\n",
       "      <td>1</td>\n",
       "    </tr>\n",
       "    <tr>\n",
       "      <th>98</th>\n",
       "      <td>63</td>\n",
       "      <td>http://www.dianping.com/shop/27215019</td>\n",
       "      <td>NaN</td>\n",
       "      <td>1</td>\n",
       "    </tr>\n",
       "    <tr>\n",
       "      <th>99</th>\n",
       "      <td>80</td>\n",
       "      <td>http://www.zhainanmao.com/2925.html</td>\n",
       "      <td>NaN</td>\n",
       "      <td>0</td>\n",
       "    </tr>\n",
       "  </tbody>\n",
       "</table>\n",
       "</div>"
      ],
      "text/plain": [
       "    url_index                                                url                                              title  label\n",
       "0           0         http://news.mydrivers.com/1/551/551632.htm  大疆发布全新Zenmuse X7云台相机：6K分辨率RAW视频-大疆,Zenmuse X7,...      1\n",
       "1           1      http://www.gzmama.com/thread-4173173-1-1.html  一个出轨女人的后悔自白（在233楼有大家对我提出的疑问进行了详细的解答） - 情感.婚姻.家...      0\n",
       "2           2   https://iask.fh21.com.cn/question/101044709.html  跟老公结婚当天，老公强行的让我和他的几个朋友一起爱爱，我是第一次，下面疼的几乎晕过去，屁眼也...      0\n",
       "3           3         http://news.mydrivers.com/1/551/551360.htm          宝马X2量产版曝光：老X1换代重生？-宝马,X2,量产版,X1,SUV,-驱动之家      1\n",
       "4           4             https://www.douban.com/note/640437046/                    \\n    和男友吵架的夜晚心烦意乱，我找了个男人开房解闷\\n      0\n",
       "5           5             http://www.iqiyi.com/v_19rr8rrxco.html  日日煮DayDayCook_20170927期-大盘鸡一定要够大盘才尽兴！-生活-高清正版视...      1\n",
       "6           6  https://detail.tmall.com/item.htm?spm=a230r.1....         充气娃娃真人男用半实体硅胶少妇全自动智能带阴毛成人情趣性用品-tmall.com天猫      0\n",
       "7           7       http://news.chinabyte.com/101/14308601.shtml                蜂巢科技A轮融资6200万,工业级无人机寒冬\"起飞\"_新闻中心_比特网      1\n",
       "8           8             http://www.fobshanghai.com/goods/4388/                         美国FBA快递 - 福步外贸网,专注提供各类外贸服务      1\n",
       "9           9  http://www.feng.com/view/Views/2017-10-11/The-...  不省心的民宿短租是该管管了 民宿,短租,旅游,监督 iPhone6|iPhone6 plus...      1\n",
       "10         10  http://life.cqnews.net/html/2017-09/30/content...                          重庆这个地方竟私藏了百亩玫瑰花田-资讯频道-华龙网      1\n",
       "11         11  http://news.17173.com/content/10012017/0600301...  综述：蓝洞确认腾讯代理绝地求生 未成年人不理性消费可退款_网络游戏新闻_17173.com中...      1\n",
       "12         12           http://jiemi.baike.com/pa/detail?id=5000   历史上最好色的女人，不仅拥有30个男宠，还逼迫自己的姑父就范|南北朝|刘楚玉|男宠|山阴公...      0\n",
       "13         13  http://travel.qingdaonews.com/gb/content/2017-...                    单日接客近7000人次 青岛邮轮母港创开港纪录 - 青岛新闻网      1\n",
       "14         14  http://news.ifeng.com/a/20170401/50876793_0.shtml                       七旬知青往事：最忘不了在北大荒拉练时的那顿饺子_凤凰历史      1\n",
       "15         15        http://baike.focus.cn/tj/detail/100113.html                            单身女性买房必备的七条购房攻略_天津搜狐焦点网      1\n",
       "16         16  https://www.wtoip.com/patent/c01/?sort=pup&pmi...                           专利申请业务-专利服务流程及费用-汇桔网服务商城      1\n",
       "17         17       http://www.toutiao.com/a6469116246553002510/                                 结婚十年，不抵一夜温存，我恨同学聚会      0\n",
       "18         18  http://www.baike.com/wiki/%E6%9A%B9%E7%BD%97%E...                                         暹罗猫_互动百科\\n      1\n",
       "19         19  https://tuan.gome.com.cn/deal/Q8800649047.html...                                十八子作雅致七件套刀团购价格-国美团购      1\n",
       "20         20       http://bbs.tianya.cn/post-266-121603-1.shtml                 记录我的数次嫖妓经历和感受（开帖为忏悔）！_西安_天涯论坛_天涯社区      0\n",
       "21         21  http://blog.sina.com.cn/s/blog_65bfb8110102x75...                        秋实评论：人工智能电视,谁立潮头？_秋实评论_新浪博客      1\n",
       "22         22  http://club.kdnet.net/dispbbs.asp?id=11621552&...                   老师与女学生通奸致其怀孕 妻子拉横幅举报 【凯迪华南】-凯迪社区      0\n",
       "23         23  http://finance.17ok.com/news/257/2017/0930/260...          茅台发布品牌“瘦身”新策略 已砍155个品牌 -- 财界网 -- 中国财经金融门户      1\n",
       "24         24             http://www.xhwhouse.com/news/11340.htm                           马来西亚房产优点分析 永久产权租赁回报高-新海外      1\n",
       "25         25         http://www.cnblogs.com/blvt/p/7261833.html                  铁轨出轨总数目（卡塔兰数及大数的运用） - 余生漫漫浪 - 博客园      1\n",
       "26         26  https://baike.baidu.com/tashuo/browse/content?...             【TA说】中国有一种比大熊猫还珍贵的猴子，因为不会卖萌错失国宝宝座_百度百科      1\n",
       "27         27                            http://top.51.la/os.htm                           操作系统使用率 - 我要啦 51.La 综合数据      1\n",
       "28         28          http://stock.qq.com/a/20170925/006337.htm                格力表示暂不会举牌逼宫海立股份 董明珠或不想顶野蛮人之名_证券_腾讯网      1\n",
       "29         29  http://www.qiwen007.com/pc-wy/kejiqianyan/1524...                              “速度与激情”版烧烤炉横空出世-奇闻007      1\n",
       "30         30  http://www.cnblogs.com/Kmoon/archive/2012/04/1...                 写代码容易吗，放松一下吧，苍老师的高清片子 - 独孤求欢 - 博客园      0\n",
       "31         31         http://news.mydrivers.com/1/533/533770.htm    续航神机小米Max 2发布会直播：评论送红米4A-小米Max 2,发布会,直播,小米-驱动之家      1\n",
       "32         32  http://world.huanqiu.com/article/2017-09/11230...                      这个国家突然宣布：弃用美元，改用人民币！_国际新闻_环球网      1\n",
       "33         33      https://v.qq.com/x/cover/dac59lj8cufuekj.html                        意外的恋爱时光_电影_高清1080P在线观看_腾讯视频      1\n",
       "34         34      https://www.douban.com/group/topic/106901948/                         \\n    护肤不贵| 高性价二次清洁爽肤水盘点\\n      1\n",
       "35         35          https://www.bilibili.com/video/av2867988/       【尸体派对2】上次4P不过瘾，这是最后一P了_单机游戏_游戏_bilibili_哔哩哔哩      0\n",
       "36         36  http://news.eastday.com/w/20170925/u1a13298620...  默克尔赢得德国大选 与谁组阁成重要悬念-默克尔 德国大选 德国经济 黑天鹅 选举 另类选择 ...      1\n",
       "37         37  http://v.pptv.com/show/l1kko7kE7y2QDnY.html?rc...  王牌特工2：黄金圈(“花式装备”版预告)_高清在线观看 - PP视频一起玩出精彩 - 原聚力...      1\n",
       "38         38  http://blog.renren.com/share/880891199/1802520...                 在这场春游中，我们一起走进风景如画的双龙峡 – 【人人分享-人人网】      1\n",
       "39         39              http://www.v1.cn/video/14668488.shtml                              台式五香炸猪肉 丨 美味菜谱回顾-第一视频      1\n",
       "40         40  http://travel.sina.com.cn/outbound/pages/2017-...           吃在柬埔寨｜火锅烤肉两不误、还能吃7种肉的柬式烧烤，你想试试吗_新浪旅游_新浪网      1\n",
       "41         41               http://some.blog.51cto.com/6388/2772                         做爱称呼 - 我的博客听我的 - 51CTO技术博客      0\n",
       "42         42    http://bbs.tianya.cn/post-travel-820697-1.shtml          【走读彭水】 豆游记——沿着迤逦乌江，和你在彭水相逢_旅游休闲_天涯论坛_天涯社区      1\n",
       "43         43  http://www.taoche.com/buycar/b-dealerkcw538581...  【北京朝阳区二手Boxster】39.5万_黄色09款Boxster_Boxster二手车_...      1\n",
       "44         44      http://ssds12.blog.hexun.com/104649502_d.html               外围女真实生活揭秘：一夜遍体鳞伤换来30万_食神的神_食神的神的和讯博客      0\n",
       "45         45            https://www.zhihu.com/question/21768551                                 超级细菌真的就没的治了吗？ - 知乎      1\n",
       "46         46        https://st.hujiang.com/topic/1712323321233/  \\r\\n\\t【泡面翻】2017.10.10 法语泡一泡 - 团结就是力量_爱翻不凡翻译社_语...      1\n",
       "47         47  http://city.eastday.com/gk/20170925/u1a1329844...                     唯美樱花木道 虹桥商务区未来十大水景有看头-区域频道-东方网      1\n",
       "48         48  http://news.xinhuanet.com/air/2015-11/11/c_128...                            \\r\\n航空公司机票优惠力度大-新华网\\r\\n      1\n",
       "49         49  http://yq.voc.com.cn/article/201506/2015062422...           舆情分析：兰陵一副校长致初中女生\"怀孕\" - 案例库 - 华声舆情 - 华声在线      0\n",
       "50         50       http://www.toutiao.com/a6471106472599093773/                     不要再傻傻的用酵母发面了，用它只需2分钟，做出馒头又软又好吃      1\n",
       "51         51  http://news.163.com/photoview/00AN0001/2276780...                              广场大全景再现 国庆花坛扮靓京城_网易新闻      1\n",
       "52         52  http://economy.youth.cn/dtxw/201709/t20170925_...                   抑制“煤超疯” 发改委连续发声保障煤炭供应_新闻频道_中国青年网      1\n",
       "53         53     https://iask.fh21.com.cn/question/2937670.html                          在做爱中，老婆感觉下面流水是怎么回事_飞华健康问答      0\n",
       "54         54  http://club.qingdaonews.com/showAnnounce_1246_...                          城市街拍:秋意渐浓 街头美女运动范十足-青青岛社区      1\n",
       "55         55  http://news.qingdaonews.com/shehui/2017-09/28/...                   96岁老兵病床上交出最后党费:曾用70年找回党籍 - 青岛新闻网      1\n",
       "56         56          http://special.csdncms.csdn.net/CCTC2017/                                     中国云计算技术大会 2017      1\n",
       "57         57   http://378213986.blog.51cto.com/11691396/1954136         Map集合以及Collections集合工具类 - 天纵之欲 - 51CTO技术博客      1\n",
       "58         58       http://yq.rednet.cn/c/2017/09/27/4436447.htm                      华凯创意2017上半年实现营收1.98亿元_园区频道_红网      1\n",
       "59         59  https://www.zhihu.com/question/19746551/answer...                                  深圳有什么有特色好去处？ - 知乎      1\n",
       "60         60  http://v.youku.com/v_show/id_XMzA1NzU5MDY0OA==...                                 —在线播放—优酷网，视频高清在线观看      1\n",
       "61         61  http://www.qingdaonews.com/content/2012-07/05/...                    2012消费电子博览会 NEC科技打造“智慧城市”－青岛新闻网      1\n",
       "62         62  http://blog.csdn.net/jiashuai94/article/detail...               SurfaceView+MediaPlayer封装之路 - CSDN博客      1\n",
       "63         64    http://dzh.mop.com/a/150313103620000219707.html              新娘遭多人洞房乱摸：闹洞房新娘被众人乱摸过程-五花八门-猫扑大杂烩-猫扑网      0\n",
       "64         65  http://www.chinaz.com/manage/2017/0928/809479....                         所谓粉丝经济，是巨大的机会还是陷阱？  - 站长之家      1\n",
       "65         66  http://bbs.feeyo.com/posts/594/topic-0011-5943...         [讨论]关于增班香港――苏腊巴亚、新开港龙香港――棉兰、广州、厦门――苏腊巴亚的讨论      1\n",
       "66         67             http://www.iqiyi.com/v_19rrkef8yk.html     达人厨房_20151230期-武汉人每天的味觉，都在这碗面中醒来-生活-高清正版视频–爱奇艺      1\n",
       "67         68           http://face.39.net/a/170925/5710611.html                          秋季要防晒吗？秋季如何选防晒霜？_39健康网_美容      1\n",
       "68         69               http://www.cnnic.cn/hlwfzyj/hlwxzbg/                                         中国互联网络信息中心      1\n",
       "69         70               http://www.keketui.com/p/AH9Lt2.html             “安全生产，责任重于泰山”梅河口市体育中心进行基础设施安全隐患大排查|可可推      1\n",
       "70         71  https://zhidao.baidu.com/question/414186448.ht...                                     求歌词：李志 米店_百度知道      1\n",
       "71         72  http://v.cyol.com/content/2017-09/04/content_1...                                  专访传统旗袍手艺人史丽萍-中青在线      1\n",
       "72         73  http://article.zhaopin.com/marketing/pub/view/...                            2017年秋季白领事业信心指数下降，跳槽比例高      1\n",
       "73         74     http://sidalin.blog.hexun.com/113111184_d.html  你不知道的100个中国大案之七十五-杀人焚尸的美丽女死囚任雪（被老厂长欺骗诱奸后残杀其女儿报...      0\n",
       "74         75  http://scitech.people.com.cn/n1/2017/0925/c100...                           科普：食草恐龙有时也“开荤”--科技--人民网       1\n",
       "75         76  http://lvxing.pgc.panda.tv/270?channel=web_pgc...                           侣行_张昕宇梁红的日常_熊猫直播_泛娱乐直播平台      1\n",
       "76         77  http://news.163.com/17/0930/01/CVHU76UT0001875...                       两架政府包机飞越19国 赴海外接回被困中方人员_网易新闻      1\n",
       "77         78  http://www.self.com.cn/life/food/news_1955693d...                          夏日小酌 来一杯葡萄柚皮斯科酸鸡尾酒_生活_悦己网      1\n",
       "78         79         https://movie.douban.com/subject/20433454/                       \\n        美味的性爱，美味的想象 (豆瓣)\\n      0\n",
       "79         81    http://v.youku.com/v_show/id_XNTg4MDQwMDQ=.html                    实拍KTV坐台女的非法交易—在线播放—优酷网，视频高清在线观看      0\n",
       "80         82        https://segmentfault.com/a/1190000011422995       可能是Android平台上最快的图片压缩框架 - Tech - SegmentFault      1\n",
       "81         83          https://www.bilibili.com/video/av8118269/  【福利/欢乐向/AMV】新年就要啪啪啪 我可能遇见了假啪啪啪啪@FB_JAMes_MAD·A...      0\n",
       "82         84            https://www.zhihu.com/question/24931495                                  大麻会对生活造成危害吗？ - 知乎      0\n",
       "83         85       http://tv.sohu.com/20170923/n600176295.shtml                      视频-葡萄牙大师赛首轮 莱腾、坎瑟亚并列第一 - 搜狐视频      1\n",
       "84         86  http://news.china.com/socialgd/10000169/201709...                   网络惊现售卖原味丝袜二手内裤 交易背后不堪入目_新闻频道_中华网      0\n",
       "85         87  http://hisense.zhiye.com/sjobs?k=&c=&p=3^-1,1^...                                     海信集团网申系统--职位列表      1\n",
       "86         88             http://www.iqiyi.com/v_19rr8tcbps.html    第一印象天气预报_20170926期-最天气之冷空气与秋老虎的博弈-资讯-高清正版视频-爱奇艺      1\n",
       "87         89             http://www.iqiyi.com/v_19rrnm9d6k.html                  《同意》“把衣服全脱了，不要问我任何问题”-广告-高清视频–爱奇艺      0\n",
       "88         90         http://bbs.51cto.com/thread-1512089-1.html  7年,怎么从一个三流学校的高职生到自主创业的CEO - 挨踢生活 -  51CTO技术论坛_...      1\n",
       "89         91  http://news.chinabyte.com/hot/489/13759989_2.s...                        熊猫tv色青女主播直播间撅屁屁 脱衣做爱被封_比特新闻      0\n",
       "90         92       http://www.toutiao.com/a6189451402894180610/                                孕妇被绑铁柱殴打，偷东西就能滥用私刑？      0\n",
       "91         93     http://www.huodongxing.com/event/7407592563300               南色美术活动基地 · 创意现场（第十六期）_精彩城市生活，尽在活动行！！      1\n",
       "92         94       http://www.toutiao.com/a6470330592457130510/                                     分手你还赚了一个处，你不亏！      0\n",
       "93         95  http://news.china.com/socialgd/10000169/201709...                        九只梅花鹿亮相北京故宫博物院(组图)_新闻频道_中华网      1\n",
       "94         96  http://www.cnblogs.com/alamiye010/archive/2011...  Silverlight 2.5D RPG游戏技巧与特效处理(Game Effects)：目录...      1\n",
       "95         97  http://blog.renren.com/share/342270153/1809091...                              大尺度无底线直播 – 【人人分享-人人网】      0\n",
       "96         98  http://life.eastday.com/eastday/dfsh/n992996/u...                 传奇芝士挞中国开“烤” BAKE媒体分享会上海举办-东方生活-东方网      1\n",
       "97         99  http://news.gmw.cn/2017-09/25/content_26314544...                   \\r\\n汤炳正：朴学的经世致用\\r\\n_光明日报\\r\\n_光明网      1\n",
       "98         63              http://www.dianping.com/shop/27215019                                                NaN      1\n",
       "99         80                http://www.zhainanmao.com/2925.html                                                NaN      0"
      ]
     },
     "execution_count": 64,
     "metadata": {},
     "output_type": "execute_result"
    }
   ],
   "source": [
    "final_df"
   ]
  },
  {
   "cell_type": "code",
   "execution_count": 7,
   "metadata": {
    "collapsed": true
   },
   "outputs": [],
   "source": [
    "a = Transformer(corpus_2_list, corpus_3_list)"
   ]
  },
  {
   "cell_type": "code",
   "execution_count": null,
   "metadata": {
    "collapsed": true
   },
   "outputs": [],
   "source": [
    "labels = "
   ]
  },
  {
   "cell_type": "code",
   "execution_count": null,
   "metadata": {
    "collapsed": true
   },
   "outputs": [],
   "source": [
    "for i, url, label in \n",
    "    i, url, labe"
   ]
  },
  {
   "cell_type": "code",
   "execution_count": 14,
   "metadata": {
    "collapsed": true,
    "scrolled": true
   },
   "outputs": [],
   "source": [
    "# miaozhen sample dataset\n",
    "\n",
    "training_title_list = open('/Users/olap/Desktop/training_title_list.txt', 'r').read().split('\\n')[:100]\n",
    "title_feature_list = list(map(title_processor, training_title_list))\n",
    "\n",
    "ture_label = open('/Users/olap/Desktop/training_set.txt', 'r').read().split('\\n')\n",
    "true_label_list = list(map(lambda x:x.split(' ')[-1], ture_label))\n",
    "true_label_list = [1 if label=='0' else label for label in true_label_list]\n",
    "true_label_list = [0 if label=='100' else label for label in true_label_list][:-1]\n",
    "\n",
    "title = pd.DataFrame(training_title_list)\n",
    "feature = pd.DataFrame(title_feature_list)\n",
    "true_label = pd.DataFrame(true_label_list)\n",
    "\n",
    "noobs_df = pd.concat([title, feature, true_label], axis= 1)\n",
    "noobs_df.columns = ['title', 'token_2', 'token_3', 'syn_2', 'syn_3', 'true_label']"
   ]
  },
  {
   "cell_type": "code",
   "execution_count": 17,
   "metadata": {
    "collapsed": true
   },
   "outputs": [],
   "source": [
    "rf = RandomForestClassifier()\n",
    "lr = linear_model.LogisticRegression()"
   ]
  },
  {
   "cell_type": "code",
   "execution_count": 18,
   "metadata": {
    "collapsed": true
   },
   "outputs": [],
   "source": [
    "def model_perfermance(data, test_size, model, diff):\n",
    "    \n",
    "    title_list = data['title'].tolist()\n",
    "    X = np.array(list(map(title_processor, title_list)))\n",
    "    y = np.array(data['true_label'].tolist())\n",
    "    \n",
    "    title = pd.DataFrame(title_list)\n",
    "    feature = pd.DataFrame(X)\n",
    "    true_label = pd.DataFrame(y)\n",
    "\n",
    "    df = pd.concat([title, feature, true_label], axis= 1)\n",
    "    df.columns = ['title', 'token_2', 'token_3', 'syn_2', 'syn_3', 'true_label']\n",
    "    \n",
    "    # split data\n",
    "    sss = StratifiedShuffleSplit(n_splits=1, test_size=test_size, random_state=0)\n",
    "    \n",
    "    for train_index, test_index in sss.split(X, y):\n",
    "        X_train, X_test = X[train_index], X[test_index]\n",
    "        y_train, y_test = y[train_index], y[test_index]\n",
    "    \n",
    "    #train model\n",
    "    model.fit(X_train, y_train)\n",
    "    \n",
    "    print('traning acc', model.score(X_train, y_train))\n",
    "    print('test acc', model.score(X_test, y_test))\n",
    "\n",
    "    # predicted probalibility\n",
    "    model_predict = pd.DataFrame(model.predict(X_test))\n",
    "    model_predict.columns = ['pred_label']\n",
    "    model_proba = pd.DataFrame(model.predict_proba(X_test))\n",
    "    model_proba.columns = ['proba_0', 'proba_1']\n",
    "    \n",
    "    #get test set\n",
    "    index = test_index.tolist()\n",
    "    test_df = df.iloc[index].reset_index(drop = True)\n",
    "    test_df = pd.concat([test_df, model_predict, model_proba], axis= 1)\n",
    "    \n",
    "    # rule base perfermance    \n",
    "    rule_base_mis = len(test_df[((test_df['token_3'] == 0) & (test_df['true_label'] == 1))\n",
    "             | (test_df['token_3'] > 0) & (test_df['true_label'] == 0)])\n",
    "    \n",
    "    print('rule base acc', 1-rule_base_mis/len(test_df))\n",
    "    \n",
    "    # mistake cases\n",
    "    mis_df = test_df[test_df['true_label'] != test_df['pred_label']]\n",
    "    \n",
    "    # title rated manually\n",
    "    manual_rating_df = test_df[abs(test_df['proba_0']-test_df['proba_1']) < diff] \n",
    "    manual_rating_cnt = len(manual_rating_df)\n",
    "    manual_improve_cnt = len(test_df[(test_df['true_label'] != test_df['pred_label'])\n",
    "                            & (abs(test_df['proba_0']-test_df['proba_1']) < diff)])\n",
    "    \n",
    "    print('test_count', len(test_df))\n",
    "    print('manually rate title', manual_rating_cnt)\n",
    "    print('can improve', manual_improve_cnt)\n",
    "    \n",
    "    if manual_rating_cnt != 0:\n",
    "        print('manyally eff', manual_improve_cnt/manual_rating_cnt)\n",
    "    \n",
    "    print('model + manual acc', model.score(X_test, y_test) + manual_improve_cnt/len(test_df))\n",
    "    \n",
    "    #return mistake cases to imporve model/corpus\n",
    "    return mis_df"
   ]
  },
  {
   "cell_type": "code",
   "execution_count": 22,
   "metadata": {
    "scrolled": false
   },
   "outputs": [
    {
     "name": "stdout",
     "output_type": "stream",
     "text": [
      "traning acc 0.9\n",
      "test acc 0.95\n",
      "rule base acc 0.875\n",
      "test_count 40\n",
      "manually rate title 10\n",
      "can improve 2\n",
      "manyally eff 0.2\n",
      "model + manual acc 1.0\n"
     ]
    },
    {
     "data": {
      "text/html": [
       "<div>\n",
       "<style>\n",
       "    .dataframe thead tr:only-child th {\n",
       "        text-align: right;\n",
       "    }\n",
       "\n",
       "    .dataframe thead th {\n",
       "        text-align: left;\n",
       "    }\n",
       "\n",
       "    .dataframe tbody tr th {\n",
       "        vertical-align: top;\n",
       "    }\n",
       "</style>\n",
       "<table border=\"1\" class=\"dataframe\">\n",
       "  <thead>\n",
       "    <tr style=\"text-align: right;\">\n",
       "      <th></th>\n",
       "      <th>title</th>\n",
       "      <th>token_2</th>\n",
       "      <th>token_3</th>\n",
       "      <th>syn_2</th>\n",
       "      <th>syn_3</th>\n",
       "      <th>true_label</th>\n",
       "      <th>pred_label</th>\n",
       "      <th>proba_0</th>\n",
       "      <th>proba_1</th>\n",
       "    </tr>\n",
       "  </thead>\n",
       "  <tbody>\n",
       "    <tr>\n",
       "      <th>2</th>\n",
       "      <td>分手你还赚了一个处，你不亏！</td>\n",
       "      <td>1</td>\n",
       "      <td>0</td>\n",
       "      <td>0</td>\n",
       "      <td>0</td>\n",
       "      <td>1</td>\n",
       "      <td>0</td>\n",
       "      <td>0.544775</td>\n",
       "      <td>0.455225</td>\n",
       "    </tr>\n",
       "    <tr>\n",
       "      <th>7</th>\n",
       "      <td>舆情分析：兰陵一副校长致初中女生\"怀孕\" - 案例库 - 华声舆情 - 华声在线</td>\n",
       "      <td>1</td>\n",
       "      <td>0</td>\n",
       "      <td>1</td>\n",
       "      <td>0</td>\n",
       "      <td>1</td>\n",
       "      <td>0</td>\n",
       "      <td>0.506143</td>\n",
       "      <td>0.493857</td>\n",
       "    </tr>\n",
       "  </tbody>\n",
       "</table>\n",
       "</div>"
      ],
      "text/plain": [
       "                                      title  token_2  token_3  syn_2  syn_3  true_label  pred_label   proba_0   proba_1\n",
       "2                            分手你还赚了一个处，你不亏！        1        0      0      0           1           0  0.544775  0.455225\n",
       "7  舆情分析：兰陵一副校长致初中女生\"怀孕\" - 案例库 - 华声舆情 - 华声在线        1        0      1      0           1           0  0.506143  0.493857"
      ]
     },
     "execution_count": 22,
     "metadata": {},
     "output_type": "execute_result"
    }
   ],
   "source": [
    "model_perfermance(noobs_df, .4, lr, .3)"
   ]
  }
 ],
 "metadata": {
  "kernelspec": {
   "display_name": "Python 3",
   "language": "python",
   "name": "python3"
  },
  "language_info": {
   "codemirror_mode": {
    "name": "ipython",
    "version": 3
   },
   "file_extension": ".py",
   "mimetype": "text/x-python",
   "name": "python",
   "nbconvert_exporter": "python",
   "pygments_lexer": "ipython3",
   "version": "3.6.2"
  },
  "toc": {
   "nav_menu": {},
   "number_sections": false,
   "sideBar": true,
   "skip_h1_title": false,
   "toc_cell": true,
   "toc_position": {},
   "toc_section_display": "block",
   "toc_window_display": false
  }
 },
 "nbformat": 4,
 "nbformat_minor": 2
}
